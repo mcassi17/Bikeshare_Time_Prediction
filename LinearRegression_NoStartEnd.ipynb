{
 "cells": [
  {
   "cell_type": "code",
   "execution_count": 1,
   "metadata": {
    "collapsed": true
   },
   "outputs": [],
   "source": [
    "import pandas as pd\n",
    "import numpy as np\n",
    "import matplotlib.pyplot as plt\n",
    "from datetime import datetime \n",
    "import seaborn as sns\n",
    "%matplotlib inline"
   ]
  },
  {
   "cell_type": "code",
   "execution_count": 2,
   "metadata": {},
   "outputs": [
    {
     "name": "stderr",
     "output_type": "stream",
     "text": [
      "/anaconda/lib/python3.6/site-packages/statsmodels/compat/pandas.py:56: FutureWarning: The pandas.core.datetools module is deprecated and will be removed in a future version. Please use the pandas.tseries module instead.\n",
      "  from pandas.core import datetools\n"
     ]
    }
   ],
   "source": [
    "from sklearn.model_selection import train_test_split\n",
    "from sklearn.linear_model import LinearRegression\n",
    "from sklearn.metrics import mean_squared_error\n",
    "from sklearn.metrics import explained_variance_score\n",
    "from sklearn.model_selection import GridSearchCV\n",
    "from sklearn.linear_model import Ridge\n",
    "from sklearn.linear_model import Lasso\n",
    "from sklearn.linear_model import ElasticNet\n",
    "from sklearn.metrics import r2_score\n",
    "from sklearn.model_selection import cross_val_score\n",
    "from sklearn.model_selection import cross_val_predict\n",
    "from sklearn.linear_model import LassoCV\n",
    "from sklearn.linear_model import RidgeCV\n",
    "from sklearn.utils import shuffle\n",
    "import statsmodels.api as sm"
   ]
  },
  {
   "cell_type": "code",
   "execution_count": 3,
   "metadata": {
    "collapsed": true
   },
   "outputs": [],
   "source": [
    "# Load Dataset with all columns\n",
    "# Making the data columns datetime objects with the parse_dates attribute\n",
    "bikeshare_machine = pd.read_csv('/Users/matthewcassi/Documents/Bike-Sharing-Dataset/less_bikeshare_lat_lon.csv', \n",
    "                        parse_dates=['Start date', 'End date', 'start_date_short', 'end_date_short'])\n",
    "# Removing the Unnamed column\n",
    "bikeshare_machine.drop('Unnamed: 0', 1, inplace=True)"
   ]
  },
  {
   "cell_type": "code",
   "execution_count": 4,
   "metadata": {},
   "outputs": [
    {
     "data": {
      "text/plain": [
       "['Start date',\n",
       " 'End date',\n",
       " 'start_station',\n",
       " 'start_station_code',\n",
       " 'end_station',\n",
       " 'end_station_code',\n",
       " 'Member Type',\n",
       " 'start_date_short',\n",
       " 'end_date_short',\n",
       " 'time_diff',\n",
       " 'season',\n",
       " 'mnth',\n",
       " 'holiday',\n",
       " 'weekday',\n",
       " 'workingday',\n",
       " 'weathersit',\n",
       " 'temp',\n",
       " 'hum',\n",
       " 'windspeed',\n",
       " 'start_lat',\n",
       " 'start_lon',\n",
       " 'end_lat',\n",
       " 'end_lon',\n",
       " 'miles']"
      ]
     },
     "execution_count": 4,
     "metadata": {},
     "output_type": "execute_result"
    }
   ],
   "source": [
    "# creating a list of columns which will be used to create the list of columns to keep for the machine\n",
    "# learning piece\n",
    "list(bikeshare_machine.columns)"
   ]
  },
  {
   "cell_type": "code",
   "execution_count": 5,
   "metadata": {},
   "outputs": [
    {
     "data": {
      "text/html": [
       "<div>\n",
       "<style>\n",
       "    .dataframe thead tr:only-child th {\n",
       "        text-align: right;\n",
       "    }\n",
       "\n",
       "    .dataframe thead th {\n",
       "        text-align: left;\n",
       "    }\n",
       "\n",
       "    .dataframe tbody tr th {\n",
       "        vertical-align: top;\n",
       "    }\n",
       "</style>\n",
       "<table border=\"1\" class=\"dataframe\">\n",
       "  <thead>\n",
       "    <tr style=\"text-align: right;\">\n",
       "      <th></th>\n",
       "      <th>Member Type</th>\n",
       "      <th>time_diff</th>\n",
       "      <th>season</th>\n",
       "      <th>mnth</th>\n",
       "      <th>holiday</th>\n",
       "      <th>weekday</th>\n",
       "      <th>workingday</th>\n",
       "      <th>weathersit</th>\n",
       "      <th>temp</th>\n",
       "      <th>hum</th>\n",
       "      <th>windspeed</th>\n",
       "      <th>miles</th>\n",
       "    </tr>\n",
       "  </thead>\n",
       "  <tbody>\n",
       "    <tr>\n",
       "      <th>0</th>\n",
       "      <td>Registered</td>\n",
       "      <td>1.833</td>\n",
       "      <td>2</td>\n",
       "      <td>3</td>\n",
       "      <td>0</td>\n",
       "      <td>4</td>\n",
       "      <td>1</td>\n",
       "      <td>3</td>\n",
       "      <td>0.268333</td>\n",
       "      <td>0.918333</td>\n",
       "      <td>0.217646</td>\n",
       "      <td>0.238743</td>\n",
       "    </tr>\n",
       "    <tr>\n",
       "      <th>1</th>\n",
       "      <td>Registered</td>\n",
       "      <td>3.317</td>\n",
       "      <td>2</td>\n",
       "      <td>3</td>\n",
       "      <td>0</td>\n",
       "      <td>4</td>\n",
       "      <td>1</td>\n",
       "      <td>3</td>\n",
       "      <td>0.268333</td>\n",
       "      <td>0.918333</td>\n",
       "      <td>0.217646</td>\n",
       "      <td>0.659533</td>\n",
       "    </tr>\n",
       "    <tr>\n",
       "      <th>2</th>\n",
       "      <td>Registered</td>\n",
       "      <td>5.733</td>\n",
       "      <td>2</td>\n",
       "      <td>3</td>\n",
       "      <td>0</td>\n",
       "      <td>4</td>\n",
       "      <td>1</td>\n",
       "      <td>3</td>\n",
       "      <td>0.268333</td>\n",
       "      <td>0.918333</td>\n",
       "      <td>0.217646</td>\n",
       "      <td>0.691996</td>\n",
       "    </tr>\n",
       "    <tr>\n",
       "      <th>3</th>\n",
       "      <td>Registered</td>\n",
       "      <td>8.700</td>\n",
       "      <td>2</td>\n",
       "      <td>3</td>\n",
       "      <td>0</td>\n",
       "      <td>4</td>\n",
       "      <td>1</td>\n",
       "      <td>3</td>\n",
       "      <td>0.268333</td>\n",
       "      <td>0.918333</td>\n",
       "      <td>0.217646</td>\n",
       "      <td>1.453796</td>\n",
       "    </tr>\n",
       "    <tr>\n",
       "      <th>4</th>\n",
       "      <td>Registered</td>\n",
       "      <td>7.850</td>\n",
       "      <td>2</td>\n",
       "      <td>3</td>\n",
       "      <td>0</td>\n",
       "      <td>4</td>\n",
       "      <td>1</td>\n",
       "      <td>3</td>\n",
       "      <td>0.268333</td>\n",
       "      <td>0.918333</td>\n",
       "      <td>0.217646</td>\n",
       "      <td>1.351053</td>\n",
       "    </tr>\n",
       "  </tbody>\n",
       "</table>\n",
       "</div>"
      ],
      "text/plain": [
       "  Member Type  time_diff  season  mnth  holiday  weekday  workingday  \\\n",
       "0  Registered      1.833       2     3        0        4           1   \n",
       "1  Registered      3.317       2     3        0        4           1   \n",
       "2  Registered      5.733       2     3        0        4           1   \n",
       "3  Registered      8.700       2     3        0        4           1   \n",
       "4  Registered      7.850       2     3        0        4           1   \n",
       "\n",
       "   weathersit      temp       hum  windspeed     miles  \n",
       "0           3  0.268333  0.918333   0.217646  0.238743  \n",
       "1           3  0.268333  0.918333   0.217646  0.659533  \n",
       "2           3  0.268333  0.918333   0.217646  0.691996  \n",
       "3           3  0.268333  0.918333   0.217646  1.453796  \n",
       "4           3  0.268333  0.918333   0.217646  1.351053  "
      ]
     },
     "execution_count": 5,
     "metadata": {},
     "output_type": "execute_result"
    }
   ],
   "source": [
    "# Selecting the columns that are needed for the analysis. Remove start/end stations\n",
    "included_cols = ['Member Type',\n",
    "                 'time_diff',\n",
    "                 'season',\n",
    "                 'mnth',\n",
    "                 'holiday',\n",
    "                 'weekday',\n",
    "                 'workingday',\n",
    "                 'weathersit',\n",
    "                 'temp',\n",
    "                 'hum',\n",
    "                 'windspeed',\n",
    "                 'miles']\n",
    "# Subsetting the dataset so that only the columns above are included\n",
    "bikeshare_machine = bikeshare_machine[included_cols]\n",
    "bikeshare_machine.head()"
   ]
  },
  {
   "cell_type": "code",
   "execution_count": 7,
   "metadata": {},
   "outputs": [],
   "source": [
    "# Make categorical data for columns like month, holiday, etc.\n",
    "bikeshare_machine['season'] = bikeshare_machine['season'].astype('category')\n",
    "bikeshare_machine['mnth'] = bikeshare_machine['mnth'].astype('category')\n",
    "bikeshare_machine['holiday'] = bikeshare_machine['holiday'].astype('category')\n",
    "bikeshare_machine['weekday'] = bikeshare_machine['weekday'].astype('category')\n",
    "bikeshare_machine['workingday'] = bikeshare_machine['workingday'].astype('category')\n",
    "bikeshare_machine['weathersit'] = bikeshare_machine['weathersit'].astype('category')\n",
    "bikeshare_machine['Member Type'] = bikeshare_machine['Member Type'].astype('category')"
   ]
  },
  {
   "cell_type": "code",
   "execution_count": 8,
   "metadata": {
    "collapsed": true
   },
   "outputs": [],
   "source": [
    "# Update columns names for the dataset\n",
    "col_names = ['member_type','time_diff','season','month','holiday',\n",
    "             'weekday','work_day','weather_cat','temperature','humidity','windspeed','miles']\n",
    "bikeshare_machine.columns = col_names"
   ]
  },
  {
   "cell_type": "code",
   "execution_count": 9,
   "metadata": {
    "collapsed": true
   },
   "outputs": [],
   "source": [
    "# Standardization of windspeed, humidity, and temperature were not all the same\n",
    "# Values were changed back to their original values (not scaled)\n",
    "tmin = -8\n",
    "tmax = 39\n",
    "hum_max = 100\n",
    "wind_max = 67\n",
    "bikeshare_machine['temp'] = bikeshare_machine['temperature'] * (tmax - tmin) + tmin\n",
    "bikeshare_machine['hum'] = bikeshare_machine['humidity'] * 100\n",
    "bikeshare_machine['wind'] = bikeshare_machine['windspeed'] * 67"
   ]
  },
  {
   "cell_type": "code",
   "execution_count": 10,
   "metadata": {},
   "outputs": [
    {
     "data": {
      "text/plain": [
       "<matplotlib.axes._subplots.AxesSubplot at 0x122507470>"
      ]
     },
     "execution_count": 10,
     "metadata": {},
     "output_type": "execute_result"
    },
    {
     "data": {
      "image/png": "[encoded data removed]",
      "text/plain": [
       "<matplotlib.figure.Figure at 0x1225072b0>"
      ]
     },
     "metadata": {},
     "output_type": "display_data"
    }
   ],
   "source": [
    "# Checking the correlations between continuous variables\n",
    "corr = bikeshare_machine.corr()\n",
    "f, ax = plt.subplots(figsize=(10, 8))\n",
    "sns.heatmap(corr, mask=np.zeros_like(corr, dtype=np.bool), cmap=sns.diverging_palette(220, 10, as_cmap=True),\n",
    "            square=True, ax=ax)"
   ]
  },
  {
   "cell_type": "code",
   "execution_count": 11,
   "metadata": {},
   "outputs": [
    {
     "data": {
      "text/html": [
       "<div>\n",
       "<style>\n",
       "    .dataframe thead tr:only-child th {\n",
       "        text-align: right;\n",
       "    }\n",
       "\n",
       "    .dataframe thead th {\n",
       "        text-align: left;\n",
       "    }\n",
       "\n",
       "    .dataframe tbody tr th {\n",
       "        vertical-align: top;\n",
       "    }\n",
       "</style>\n",
       "<table border=\"1\" class=\"dataframe\">\n",
       "  <thead>\n",
       "    <tr style=\"text-align: right;\">\n",
       "      <th></th>\n",
       "      <th>time_diff</th>\n",
       "      <th>temperature</th>\n",
       "      <th>humidity</th>\n",
       "      <th>windspeed</th>\n",
       "      <th>miles</th>\n",
       "      <th>temp</th>\n",
       "      <th>hum</th>\n",
       "      <th>wind</th>\n",
       "      <th>member_type_Registered</th>\n",
       "      <th>holiday_1</th>\n",
       "      <th>...</th>\n",
       "      <th>weekday_0</th>\n",
       "      <th>weekday_1</th>\n",
       "      <th>weekday_2</th>\n",
       "      <th>weekday_3</th>\n",
       "      <th>weekday_4</th>\n",
       "      <th>weekday_5</th>\n",
       "      <th>weekday_6</th>\n",
       "      <th>weather_cat_1</th>\n",
       "      <th>weather_cat_2</th>\n",
       "      <th>weather_cat_3</th>\n",
       "    </tr>\n",
       "  </thead>\n",
       "  <tbody>\n",
       "    <tr>\n",
       "      <th>0</th>\n",
       "      <td>1.833</td>\n",
       "      <td>0.268333</td>\n",
       "      <td>0.918333</td>\n",
       "      <td>0.217646</td>\n",
       "      <td>0.238743</td>\n",
       "      <td>4.611651</td>\n",
       "      <td>91.8333</td>\n",
       "      <td>14.582282</td>\n",
       "      <td>1</td>\n",
       "      <td>0</td>\n",
       "      <td>...</td>\n",
       "      <td>0</td>\n",
       "      <td>0</td>\n",
       "      <td>0</td>\n",
       "      <td>0</td>\n",
       "      <td>1</td>\n",
       "      <td>0</td>\n",
       "      <td>0</td>\n",
       "      <td>0</td>\n",
       "      <td>0</td>\n",
       "      <td>1</td>\n",
       "    </tr>\n",
       "    <tr>\n",
       "      <th>1</th>\n",
       "      <td>3.317</td>\n",
       "      <td>0.268333</td>\n",
       "      <td>0.918333</td>\n",
       "      <td>0.217646</td>\n",
       "      <td>0.659533</td>\n",
       "      <td>4.611651</td>\n",
       "      <td>91.8333</td>\n",
       "      <td>14.582282</td>\n",
       "      <td>1</td>\n",
       "      <td>0</td>\n",
       "      <td>...</td>\n",
       "      <td>0</td>\n",
       "      <td>0</td>\n",
       "      <td>0</td>\n",
       "      <td>0</td>\n",
       "      <td>1</td>\n",
       "      <td>0</td>\n",
       "      <td>0</td>\n",
       "      <td>0</td>\n",
       "      <td>0</td>\n",
       "      <td>1</td>\n",
       "    </tr>\n",
       "    <tr>\n",
       "      <th>2</th>\n",
       "      <td>5.733</td>\n",
       "      <td>0.268333</td>\n",
       "      <td>0.918333</td>\n",
       "      <td>0.217646</td>\n",
       "      <td>0.691996</td>\n",
       "      <td>4.611651</td>\n",
       "      <td>91.8333</td>\n",
       "      <td>14.582282</td>\n",
       "      <td>1</td>\n",
       "      <td>0</td>\n",
       "      <td>...</td>\n",
       "      <td>0</td>\n",
       "      <td>0</td>\n",
       "      <td>0</td>\n",
       "      <td>0</td>\n",
       "      <td>1</td>\n",
       "      <td>0</td>\n",
       "      <td>0</td>\n",
       "      <td>0</td>\n",
       "      <td>0</td>\n",
       "      <td>1</td>\n",
       "    </tr>\n",
       "    <tr>\n",
       "      <th>3</th>\n",
       "      <td>8.700</td>\n",
       "      <td>0.268333</td>\n",
       "      <td>0.918333</td>\n",
       "      <td>0.217646</td>\n",
       "      <td>1.453796</td>\n",
       "      <td>4.611651</td>\n",
       "      <td>91.8333</td>\n",
       "      <td>14.582282</td>\n",
       "      <td>1</td>\n",
       "      <td>0</td>\n",
       "      <td>...</td>\n",
       "      <td>0</td>\n",
       "      <td>0</td>\n",
       "      <td>0</td>\n",
       "      <td>0</td>\n",
       "      <td>1</td>\n",
       "      <td>0</td>\n",
       "      <td>0</td>\n",
       "      <td>0</td>\n",
       "      <td>0</td>\n",
       "      <td>1</td>\n",
       "    </tr>\n",
       "    <tr>\n",
       "      <th>4</th>\n",
       "      <td>7.850</td>\n",
       "      <td>0.268333</td>\n",
       "      <td>0.918333</td>\n",
       "      <td>0.217646</td>\n",
       "      <td>1.351053</td>\n",
       "      <td>4.611651</td>\n",
       "      <td>91.8333</td>\n",
       "      <td>14.582282</td>\n",
       "      <td>1</td>\n",
       "      <td>0</td>\n",
       "      <td>...</td>\n",
       "      <td>0</td>\n",
       "      <td>0</td>\n",
       "      <td>0</td>\n",
       "      <td>0</td>\n",
       "      <td>1</td>\n",
       "      <td>0</td>\n",
       "      <td>0</td>\n",
       "      <td>0</td>\n",
       "      <td>0</td>\n",
       "      <td>1</td>\n",
       "    </tr>\n",
       "  </tbody>\n",
       "</table>\n",
       "<p>5 rows × 37 columns</p>\n",
       "</div>"
      ],
      "text/plain": [
       "   time_diff  temperature  humidity  windspeed     miles      temp      hum  \\\n",
       "0      1.833     0.268333  0.918333   0.217646  0.238743  4.611651  91.8333   \n",
       "1      3.317     0.268333  0.918333   0.217646  0.659533  4.611651  91.8333   \n",
       "2      5.733     0.268333  0.918333   0.217646  0.691996  4.611651  91.8333   \n",
       "3      8.700     0.268333  0.918333   0.217646  1.453796  4.611651  91.8333   \n",
       "4      7.850     0.268333  0.918333   0.217646  1.351053  4.611651  91.8333   \n",
       "\n",
       "        wind  member_type_Registered  holiday_1      ...        weekday_0  \\\n",
       "0  14.582282                       1          0      ...                0   \n",
       "1  14.582282                       1          0      ...                0   \n",
       "2  14.582282                       1          0      ...                0   \n",
       "3  14.582282                       1          0      ...                0   \n",
       "4  14.582282                       1          0      ...                0   \n",
       "\n",
       "   weekday_1  weekday_2  weekday_3  weekday_4  weekday_5  weekday_6  \\\n",
       "0          0          0          0          1          0          0   \n",
       "1          0          0          0          1          0          0   \n",
       "2          0          0          0          1          0          0   \n",
       "3          0          0          0          1          0          0   \n",
       "4          0          0          0          1          0          0   \n",
       "\n",
       "   weather_cat_1  weather_cat_2  weather_cat_3  \n",
       "0              0              0              1  \n",
       "1              0              0              1  \n",
       "2              0              0              1  \n",
       "3              0              0              1  \n",
       "4              0              0              1  \n",
       "\n",
       "[5 rows x 37 columns]"
      ]
     },
     "execution_count": 11,
     "metadata": {},
     "output_type": "execute_result"
    }
   ],
   "source": [
    "# Turn categorical data into dummy variables. Dropping first dummy for the category variables that have 2 labels\n",
    "bikeshare_machine = pd.get_dummies(bikeshare_machine, \n",
    "                                 columns=['member_type','holiday','work_day'], drop_first=True)\n",
    "# Turning categorical data into dummy variables. Not dropping the first dummy for categorical data with more\n",
    "# than 2 labels\n",
    "bikeshare_machine = pd.get_dummies(bikeshare_machine, \n",
    "                                 columns=['season','month','weekday','weather_cat'])\n",
    "bikeshare_machine.head()"
   ]
  },
  {
   "cell_type": "code",
   "execution_count": 12,
   "metadata": {},
   "outputs": [
    {
     "data": {
      "text/html": [
       "<div>\n",
       "<style>\n",
       "    .dataframe thead tr:only-child th {\n",
       "        text-align: right;\n",
       "    }\n",
       "\n",
       "    .dataframe thead th {\n",
       "        text-align: left;\n",
       "    }\n",
       "\n",
       "    .dataframe tbody tr th {\n",
       "        vertical-align: top;\n",
       "    }\n",
       "</style>\n",
       "<table border=\"1\" class=\"dataframe\">\n",
       "  <thead>\n",
       "    <tr style=\"text-align: right;\">\n",
       "      <th></th>\n",
       "      <th>time_diff</th>\n",
       "      <th>temperature</th>\n",
       "      <th>humidity</th>\n",
       "      <th>windspeed</th>\n",
       "      <th>miles</th>\n",
       "      <th>temp</th>\n",
       "      <th>hum</th>\n",
       "      <th>wind</th>\n",
       "      <th>member_type_Registered</th>\n",
       "      <th>holiday_1</th>\n",
       "      <th>...</th>\n",
       "      <th>weekday_0</th>\n",
       "      <th>weekday_1</th>\n",
       "      <th>weekday_2</th>\n",
       "      <th>weekday_3</th>\n",
       "      <th>weekday_4</th>\n",
       "      <th>weekday_5</th>\n",
       "      <th>weekday_6</th>\n",
       "      <th>weather_cat_1</th>\n",
       "      <th>weather_cat_2</th>\n",
       "      <th>weather_cat_3</th>\n",
       "    </tr>\n",
       "  </thead>\n",
       "  <tbody>\n",
       "    <tr>\n",
       "      <th>441032</th>\n",
       "      <td>17.583</td>\n",
       "      <td>0.507500</td>\n",
       "      <td>0.695000</td>\n",
       "      <td>0.178483</td>\n",
       "      <td>1.512253</td>\n",
       "      <td>15.852500</td>\n",
       "      <td>69.5000</td>\n",
       "      <td>11.958361</td>\n",
       "      <td>1</td>\n",
       "      <td>0</td>\n",
       "      <td>...</td>\n",
       "      <td>1</td>\n",
       "      <td>0</td>\n",
       "      <td>0</td>\n",
       "      <td>0</td>\n",
       "      <td>0</td>\n",
       "      <td>0</td>\n",
       "      <td>0</td>\n",
       "      <td>1</td>\n",
       "      <td>0</td>\n",
       "      <td>0</td>\n",
       "    </tr>\n",
       "    <tr>\n",
       "      <th>305209</th>\n",
       "      <td>27.550</td>\n",
       "      <td>0.528333</td>\n",
       "      <td>0.631667</td>\n",
       "      <td>0.074637</td>\n",
       "      <td>2.661033</td>\n",
       "      <td>16.831651</td>\n",
       "      <td>63.1667</td>\n",
       "      <td>5.000712</td>\n",
       "      <td>1</td>\n",
       "      <td>0</td>\n",
       "      <td>...</td>\n",
       "      <td>1</td>\n",
       "      <td>0</td>\n",
       "      <td>0</td>\n",
       "      <td>0</td>\n",
       "      <td>0</td>\n",
       "      <td>0</td>\n",
       "      <td>0</td>\n",
       "      <td>1</td>\n",
       "      <td>0</td>\n",
       "      <td>0</td>\n",
       "    </tr>\n",
       "    <tr>\n",
       "      <th>1117638</th>\n",
       "      <td>12.067</td>\n",
       "      <td>0.527500</td>\n",
       "      <td>0.567500</td>\n",
       "      <td>0.441563</td>\n",
       "      <td>1.190652</td>\n",
       "      <td>16.792500</td>\n",
       "      <td>56.7500</td>\n",
       "      <td>29.584721</td>\n",
       "      <td>1</td>\n",
       "      <td>0</td>\n",
       "      <td>...</td>\n",
       "      <td>0</td>\n",
       "      <td>0</td>\n",
       "      <td>0</td>\n",
       "      <td>0</td>\n",
       "      <td>1</td>\n",
       "      <td>0</td>\n",
       "      <td>0</td>\n",
       "      <td>1</td>\n",
       "      <td>0</td>\n",
       "      <td>0</td>\n",
       "    </tr>\n",
       "    <tr>\n",
       "      <th>826562</th>\n",
       "      <td>5.467</td>\n",
       "      <td>0.395000</td>\n",
       "      <td>0.758750</td>\n",
       "      <td>0.057225</td>\n",
       "      <td>0.585465</td>\n",
       "      <td>10.565000</td>\n",
       "      <td>75.8750</td>\n",
       "      <td>3.834075</td>\n",
       "      <td>1</td>\n",
       "      <td>0</td>\n",
       "      <td>...</td>\n",
       "      <td>0</td>\n",
       "      <td>1</td>\n",
       "      <td>0</td>\n",
       "      <td>0</td>\n",
       "      <td>0</td>\n",
       "      <td>0</td>\n",
       "      <td>0</td>\n",
       "      <td>1</td>\n",
       "      <td>0</td>\n",
       "      <td>0</td>\n",
       "    </tr>\n",
       "    <tr>\n",
       "      <th>90700</th>\n",
       "      <td>10.350</td>\n",
       "      <td>0.203478</td>\n",
       "      <td>0.793043</td>\n",
       "      <td>0.123300</td>\n",
       "      <td>0.714558</td>\n",
       "      <td>1.563466</td>\n",
       "      <td>79.3043</td>\n",
       "      <td>8.261100</td>\n",
       "      <td>1</td>\n",
       "      <td>0</td>\n",
       "      <td>...</td>\n",
       "      <td>0</td>\n",
       "      <td>0</td>\n",
       "      <td>0</td>\n",
       "      <td>0</td>\n",
       "      <td>0</td>\n",
       "      <td>1</td>\n",
       "      <td>0</td>\n",
       "      <td>0</td>\n",
       "      <td>1</td>\n",
       "      <td>0</td>\n",
       "    </tr>\n",
       "  </tbody>\n",
       "</table>\n",
       "<p>5 rows × 37 columns</p>\n",
       "</div>"
      ],
      "text/plain": [
       "         time_diff  temperature  humidity  windspeed     miles       temp  \\\n",
       "441032      17.583     0.507500  0.695000   0.178483  1.512253  15.852500   \n",
       "305209      27.550     0.528333  0.631667   0.074637  2.661033  16.831651   \n",
       "1117638     12.067     0.527500  0.567500   0.441563  1.190652  16.792500   \n",
       "826562       5.467     0.395000  0.758750   0.057225  0.585465  10.565000   \n",
       "90700       10.350     0.203478  0.793043   0.123300  0.714558   1.563466   \n",
       "\n",
       "             hum       wind  member_type_Registered  holiday_1      ...        \\\n",
       "441032   69.5000  11.958361                       1          0      ...         \n",
       "305209   63.1667   5.000712                       1          0      ...         \n",
       "1117638  56.7500  29.584721                       1          0      ...         \n",
       "826562   75.8750   3.834075                       1          0      ...         \n",
       "90700    79.3043   8.261100                       1          0      ...         \n",
       "\n",
       "         weekday_0  weekday_1  weekday_2  weekday_3  weekday_4  weekday_5  \\\n",
       "441032           1          0          0          0          0          0   \n",
       "305209           1          0          0          0          0          0   \n",
       "1117638          0          0          0          0          1          0   \n",
       "826562           0          1          0          0          0          0   \n",
       "90700            0          0          0          0          0          1   \n",
       "\n",
       "         weekday_6  weather_cat_1  weather_cat_2  weather_cat_3  \n",
       "441032           0              1              0              0  \n",
       "305209           0              1              0              0  \n",
       "1117638          0              1              0              0  \n",
       "826562           0              1              0              0  \n",
       "90700            0              0              1              0  \n",
       "\n",
       "[5 rows x 37 columns]"
      ]
     },
     "execution_count": 12,
     "metadata": {},
     "output_type": "execute_result"
    }
   ],
   "source": [
    "bikeshare_machine = shuffle(bikeshare_machine)\n",
    "bikeshare_machine.head()"
   ]
  },
  {
   "cell_type": "markdown",
   "metadata": {},
   "source": [
    "### Model 1 - Remove Some Variables that are correlated"
   ]
  },
  {
   "cell_type": "code",
   "execution_count": 13,
   "metadata": {
    "collapsed": true
   },
   "outputs": [],
   "source": [
    "# Leave workday, drop weekdays, leave season, drop month\n",
    "# Workday overlaps with workday/not workday and months overlap with seasons\n",
    "remove_cols = ['weekday_0', 'weekday_1','weekday_2','weekday_3','weekday_4','weekday_5','weekday_6', \n",
    "              'month_1','month_2','month_3','month_4','month_5','month_6','month_7','month_8','month_9',\n",
    "              'month_10','month_11','month_12','temperature','humidity','windspeed', 'time_diff']\n",
    "X1 = np.matrix(bikeshare_machine.drop(remove_cols, 1))\n",
    "y1 = bikeshare_machine['time_diff']"
   ]
  },
  {
   "cell_type": "code",
   "execution_count": 14,
   "metadata": {},
   "outputs": [
    {
     "data": {
      "text/plain": [
       "((914885, 14), (304962, 14), (914885,), (304962,))"
      ]
     },
     "execution_count": 14,
     "metadata": {},
     "output_type": "execute_result"
    }
   ],
   "source": [
    "# Split the data into training and testing sets and check the shape\n",
    "X1_train, X1_test, y1_train, y1_test = train_test_split(X1, y1, test_size = 0.25, random_state=17)\n",
    "X1_train.shape, X1_test.shape, y1_train.shape, y1_test.shape"
   ]
  },
  {
   "cell_type": "code",
   "execution_count": 15,
   "metadata": {},
   "outputs": [
    {
     "data": {
      "text/plain": [
       "LinearRegression(copy_X=True, fit_intercept=True, n_jobs=1, normalize=False)"
      ]
     },
     "execution_count": 15,
     "metadata": {},
     "output_type": "execute_result"
    }
   ],
   "source": [
    "# Fit model\n",
    "model1 = LinearRegression()\n",
    "model1.fit(X1_train, y1_train)"
   ]
  },
  {
   "cell_type": "code",
   "execution_count": 16,
   "metadata": {
    "collapsed": true
   },
   "outputs": [],
   "source": [
    "pred1 = model1.predict(X1_test)\n",
    "cvscores_model1 = cross_val_score(model1, X1_train, y1_train, cv=5)\n",
    "model1_r = model1.score(X1_test, y1_test)\n",
    "model1_mse = mean_squared_error(y1_test, pred1)\n",
    "model1_rmse = np.sqrt(model1_mse)\n",
    "adjustedr1 = 1 - (1-model1_r)*(len(y1_test)-1)/(len(y1_test)-X1_test.shape[1]-1)"
   ]
  },
  {
   "cell_type": "code",
   "execution_count": 17,
   "metadata": {},
   "outputs": [
    {
     "data": {
      "text/plain": [
       "(array([ 0.37271965,  0.36932336,  0.3737934 ,  0.37356351,  0.37634451]),\n",
       " 0.37016120078481829,\n",
       " 0.37013228512672358,\n",
       " 86.471324791119514,\n",
       " 9.2989959023068458)"
      ]
     },
     "execution_count": 17,
     "metadata": {},
     "output_type": "execute_result"
    }
   ],
   "source": [
    "cvscores_model1, model1_r, adjustedr1, model1_mse, model1_rmse"
   ]
  },
  {
   "cell_type": "code",
   "execution_count": 18,
   "metadata": {},
   "outputs": [
    {
     "data": {
      "text/html": [
       "<table class=\"simpletable\">\n",
       "<caption>OLS Regression Results</caption>\n",
       "<tr>\n",
       "  <th>Dep. Variable:</th>        <td>time_diff</td>    <th>  R-squared:         </th>  <td>   0.373</td>  \n",
       "</tr>\n",
       "<tr>\n",
       "  <th>Model:</th>                   <td>OLS</td>       <th>  Adj. R-squared:    </th>  <td>   0.373</td>  \n",
       "</tr>\n",
       "<tr>\n",
       "  <th>Method:</th>             <td>Least Squares</td>  <th>  F-statistic:       </th>  <td>4.539e+04</td> \n",
       "</tr>\n",
       "<tr>\n",
       "  <th>Date:</th>             <td>Tue, 05 Dec 2017</td> <th>  Prob (F-statistic):</th>   <td>  0.00</td>   \n",
       "</tr>\n",
       "<tr>\n",
       "  <th>Time:</th>                 <td>18:53:05</td>     <th>  Log-Likelihood:    </th> <td>-3.3349e+06</td>\n",
       "</tr>\n",
       "<tr>\n",
       "  <th>No. Observations:</th>      <td>914885</td>      <th>  AIC:               </th>  <td>6.670e+06</td> \n",
       "</tr>\n",
       "<tr>\n",
       "  <th>Df Residuals:</th>          <td>914872</td>      <th>  BIC:               </th>  <td>6.670e+06</td> \n",
       "</tr>\n",
       "<tr>\n",
       "  <th>Df Model:</th>              <td>    12</td>      <th>                     </th>      <td> </td>     \n",
       "</tr>\n",
       "<tr>\n",
       "  <th>Covariance Type:</th>      <td>nonrobust</td>    <th>                     </th>      <td> </td>     \n",
       "</tr>\n",
       "</table>\n",
       "<table class=\"simpletable\">\n",
       "<tr>\n",
       "   <td></td>      <th>coef</th>     <th>std err</th>      <th>t</th>      <th>P>|t|</th>  <th>[0.025</th>    <th>0.975]</th>  \n",
       "</tr>\n",
       "<tr>\n",
       "  <th>x1</th>  <td>    6.3326</td> <td>    0.013</td> <td>  487.386</td> <td> 0.000</td> <td>    6.307</td> <td>    6.358</td>\n",
       "</tr>\n",
       "<tr>\n",
       "  <th>x2</th>  <td>    0.0678</td> <td>    0.002</td> <td>   33.370</td> <td> 0.000</td> <td>    0.064</td> <td>    0.072</td>\n",
       "</tr>\n",
       "<tr>\n",
       "  <th>x3</th>  <td>    0.0006</td> <td>    0.001</td> <td>    0.582</td> <td> 0.561</td> <td>   -0.001</td> <td>    0.002</td>\n",
       "</tr>\n",
       "<tr>\n",
       "  <th>x4</th>  <td>   -0.0131</td> <td>    0.002</td> <td>   -6.259</td> <td> 0.000</td> <td>   -0.017</td> <td>   -0.009</td>\n",
       "</tr>\n",
       "<tr>\n",
       "  <th>x5</th>  <td>  -13.4933</td> <td>    0.027</td> <td> -505.268</td> <td> 0.000</td> <td>  -13.546</td> <td>  -13.441</td>\n",
       "</tr>\n",
       "<tr>\n",
       "  <th>x6</th>  <td>   -0.5037</td> <td>    0.067</td> <td>   -7.545</td> <td> 0.000</td> <td>   -0.635</td> <td>   -0.373</td>\n",
       "</tr>\n",
       "<tr>\n",
       "  <th>x7</th>  <td>   -1.5272</td> <td>    0.022</td> <td>  -68.400</td> <td> 0.000</td> <td>   -1.571</td> <td>   -1.483</td>\n",
       "</tr>\n",
       "<tr>\n",
       "  <th>x8</th>  <td>    7.5671</td> <td>    0.042</td> <td>  182.047</td> <td> 0.000</td> <td>    7.486</td> <td>    7.649</td>\n",
       "</tr>\n",
       "<tr>\n",
       "  <th>x9</th>  <td>    8.2384</td> <td>    0.046</td> <td>  180.854</td> <td> 0.000</td> <td>    8.149</td> <td>    8.328</td>\n",
       "</tr>\n",
       "<tr>\n",
       "  <th>x10</th> <td>    7.3861</td> <td>    0.049</td> <td>  150.859</td> <td> 0.000</td> <td>    7.290</td> <td>    7.482</td>\n",
       "</tr>\n",
       "<tr>\n",
       "  <th>x11</th> <td>    7.4862</td> <td>    0.044</td> <td>  169.727</td> <td> 0.000</td> <td>    7.400</td> <td>    7.573</td>\n",
       "</tr>\n",
       "<tr>\n",
       "  <th>x12</th> <td>   10.7302</td> <td>    0.042</td> <td>  254.718</td> <td> 0.000</td> <td>   10.648</td> <td>   10.813</td>\n",
       "</tr>\n",
       "<tr>\n",
       "  <th>x13</th> <td>   10.3505</td> <td>    0.053</td> <td>  194.780</td> <td> 0.000</td> <td>   10.246</td> <td>   10.455</td>\n",
       "</tr>\n",
       "<tr>\n",
       "  <th>x14</th> <td>    9.5971</td> <td>    0.091</td> <td>  105.368</td> <td> 0.000</td> <td>    9.419</td> <td>    9.776</td>\n",
       "</tr>\n",
       "</table>\n",
       "<table class=\"simpletable\">\n",
       "<tr>\n",
       "  <th>Omnibus:</th>       <td>569630.903</td> <th>  Durbin-Watson:     </th>  <td>   2.002</td>  \n",
       "</tr>\n",
       "<tr>\n",
       "  <th>Prob(Omnibus):</th>   <td> 0.000</td>   <th>  Jarque-Bera (JB):  </th> <td>7384752.990</td>\n",
       "</tr>\n",
       "<tr>\n",
       "  <th>Skew:</th>            <td> 2.831</td>   <th>  Prob(JB):          </th>  <td>    0.00</td>  \n",
       "</tr>\n",
       "<tr>\n",
       "  <th>Kurtosis:</th>        <td>15.715</td>   <th>  Cond. No.          </th>  <td>5.60e+16</td>  \n",
       "</tr>\n",
       "</table>"
      ],
      "text/plain": [
       "<class 'statsmodels.iolib.summary.Summary'>\n",
       "\"\"\"\n",
       "                            OLS Regression Results                            \n",
       "==============================================================================\n",
       "Dep. Variable:              time_diff   R-squared:                       0.373\n",
       "Model:                            OLS   Adj. R-squared:                  0.373\n",
       "Method:                 Least Squares   F-statistic:                 4.539e+04\n",
       "Date:                Tue, 05 Dec 2017   Prob (F-statistic):               0.00\n",
       "Time:                        18:53:05   Log-Likelihood:            -3.3349e+06\n",
       "No. Observations:              914885   AIC:                         6.670e+06\n",
       "Df Residuals:                  914872   BIC:                         6.670e+06\n",
       "Df Model:                          12                                         \n",
       "Covariance Type:            nonrobust                                         \n",
       "==============================================================================\n",
       "                 coef    std err          t      P>|t|      [0.025      0.975]\n",
       "------------------------------------------------------------------------------\n",
       "x1             6.3326      0.013    487.386      0.000       6.307       6.358\n",
       "x2             0.0678      0.002     33.370      0.000       0.064       0.072\n",
       "x3             0.0006      0.001      0.582      0.561      -0.001       0.002\n",
       "x4            -0.0131      0.002     -6.259      0.000      -0.017      -0.009\n",
       "x5           -13.4933      0.027   -505.268      0.000     -13.546     -13.441\n",
       "x6            -0.5037      0.067     -7.545      0.000      -0.635      -0.373\n",
       "x7            -1.5272      0.022    -68.400      0.000      -1.571      -1.483\n",
       "x8             7.5671      0.042    182.047      0.000       7.486       7.649\n",
       "x9             8.2384      0.046    180.854      0.000       8.149       8.328\n",
       "x10            7.3861      0.049    150.859      0.000       7.290       7.482\n",
       "x11            7.4862      0.044    169.727      0.000       7.400       7.573\n",
       "x12           10.7302      0.042    254.718      0.000      10.648      10.813\n",
       "x13           10.3505      0.053    194.780      0.000      10.246      10.455\n",
       "x14            9.5971      0.091    105.368      0.000       9.419       9.776\n",
       "==============================================================================\n",
       "Omnibus:                   569630.903   Durbin-Watson:                   2.002\n",
       "Prob(Omnibus):                  0.000   Jarque-Bera (JB):          7384752.990\n",
       "Skew:                           2.831   Prob(JB):                         0.00\n",
       "Kurtosis:                      15.715   Cond. No.                     5.60e+16\n",
       "==============================================================================\n",
       "\n",
       "Warnings:\n",
       "[1] Standard Errors assume that the covariance matrix of the errors is correctly specified.\n",
       "[2] The smallest eigenvalue is 1.34e-24. This might indicate that there are\n",
       "strong multicollinearity problems or that the design matrix is singular.\n",
       "\"\"\""
      ]
     },
     "execution_count": 18,
     "metadata": {},
     "output_type": "execute_result"
    }
   ],
   "source": [
    "model1_sm = sm.OLS(y1_train, X1_train).fit()\n",
    "model1_sm.summary()"
   ]
  },
  {
   "cell_type": "code",
   "execution_count": null,
   "metadata": {
    "collapsed": true
   },
   "outputs": [],
   "source": []
  },
  {
   "cell_type": "markdown",
   "metadata": {},
   "source": [
    "### Model 2 - Try reverse of Model 1"
   ]
  },
  {
   "cell_type": "code",
   "execution_count": 19,
   "metadata": {
    "collapsed": true
   },
   "outputs": [],
   "source": [
    "# Drop workday, leave weekdays, drop season, leave month\n",
    "# Workday overlaps with workday/not workday and months overlap with seasons\n",
    "remove_cols = ['work_day_1','season_1', 'season_2', 'season_3', 'season_4',\n",
    "               'temperature','humidity','windspeed', 'time_diff']\n",
    "X2 = bikeshare_machine.drop(remove_cols, 1)\n",
    "y2 = bikeshare_machine['time_diff']"
   ]
  },
  {
   "cell_type": "code",
   "execution_count": 20,
   "metadata": {},
   "outputs": [
    {
     "data": {
      "text/plain": [
       "((914885, 28), (304962, 28), (914885,), (304962,))"
      ]
     },
     "execution_count": 20,
     "metadata": {},
     "output_type": "execute_result"
    }
   ],
   "source": [
    "# Split the data into training and testing sets and check the shape\n",
    "X2_train, X2_test, y2_train, y2_test = train_test_split(X2, y2, test_size = 0.25, random_state=17)\n",
    "X2_train.shape, X2_test.shape, y2_train.shape, y2_test.shape"
   ]
  },
  {
   "cell_type": "code",
   "execution_count": 21,
   "metadata": {},
   "outputs": [
    {
     "data": {
      "text/plain": [
       "LinearRegression(copy_X=True, fit_intercept=True, n_jobs=1, normalize=False)"
      ]
     },
     "execution_count": 21,
     "metadata": {},
     "output_type": "execute_result"
    }
   ],
   "source": [
    "# Fit model\n",
    "model2 = LinearRegression()\n",
    "model2.fit(X2_train, y2_train)"
   ]
  },
  {
   "cell_type": "code",
   "execution_count": 22,
   "metadata": {
    "collapsed": true
   },
   "outputs": [],
   "source": [
    "pred2 = model2.predict(X2_test)\n",
    "cvscores_model2 = cross_val_score(model2, X2_train, y2_train, cv=5)\n",
    "model2_r = model2.score(X2_test, y2_test)\n",
    "model2_mse = mean_squared_error(y2_test, pred2)\n",
    "model2_rmse = np.sqrt(model2_mse)\n",
    "adjustedr2 = 1 - (1-model2_r)*(len(y2_test)-1)/(len(y2_test)-X2_test.shape[1]-1)"
   ]
  },
  {
   "cell_type": "code",
   "execution_count": 23,
   "metadata": {},
   "outputs": [
    {
     "data": {
      "text/plain": [
       "(array([ 0.37346838,  0.37017261,  0.3745443 ,  0.37419877,  0.37726756]),\n",
       " 0.37098459273333761,\n",
       " 0.37092683436870189,\n",
       " 86.358280322122795,\n",
       " 9.2929155985687721)"
      ]
     },
     "execution_count": 23,
     "metadata": {},
     "output_type": "execute_result"
    }
   ],
   "source": [
    "cvscores_model2, model2_r, adjustedr2, model2_mse, model2_rmse"
   ]
  },
  {
   "cell_type": "code",
   "execution_count": 24,
   "metadata": {},
   "outputs": [
    {
     "data": {
      "text/html": [
       "<table class=\"simpletable\">\n",
       "<caption>OLS Regression Results</caption>\n",
       "<tr>\n",
       "  <th>Dep. Variable:</th>        <td>time_diff</td>    <th>  R-squared:         </th>  <td>   0.374</td>  \n",
       "</tr>\n",
       "<tr>\n",
       "  <th>Model:</th>                   <td>OLS</td>       <th>  Adj. R-squared:    </th>  <td>   0.374</td>  \n",
       "</tr>\n",
       "<tr>\n",
       "  <th>Method:</th>             <td>Least Squares</td>  <th>  F-statistic:       </th>  <td>2.186e+04</td> \n",
       "</tr>\n",
       "<tr>\n",
       "  <th>Date:</th>             <td>Tue, 05 Dec 2017</td> <th>  Prob (F-statistic):</th>   <td>  0.00</td>   \n",
       "</tr>\n",
       "<tr>\n",
       "  <th>Time:</th>                 <td>18:53:53</td>     <th>  Log-Likelihood:    </th> <td>-3.3343e+06</td>\n",
       "</tr>\n",
       "<tr>\n",
       "  <th>No. Observations:</th>      <td>914885</td>      <th>  AIC:               </th>  <td>6.669e+06</td> \n",
       "</tr>\n",
       "<tr>\n",
       "  <th>Df Residuals:</th>          <td>914859</td>      <th>  BIC:               </th>  <td>6.669e+06</td> \n",
       "</tr>\n",
       "<tr>\n",
       "  <th>Df Model:</th>              <td>    25</td>      <th>                     </th>      <td> </td>     \n",
       "</tr>\n",
       "<tr>\n",
       "  <th>Covariance Type:</th>      <td>nonrobust</td>    <th>                     </th>      <td> </td>     \n",
       "</tr>\n",
       "</table>\n",
       "<table class=\"simpletable\">\n",
       "<tr>\n",
       "             <td></td>               <th>coef</th>     <th>std err</th>      <th>t</th>      <th>P>|t|</th>  <th>[0.025</th>    <th>0.975]</th>  \n",
       "</tr>\n",
       "<tr>\n",
       "  <th>miles</th>                  <td>    6.3258</td> <td>    0.013</td> <td>  487.018</td> <td> 0.000</td> <td>    6.300</td> <td>    6.351</td>\n",
       "</tr>\n",
       "<tr>\n",
       "  <th>temp</th>                   <td>    0.0815</td> <td>    0.003</td> <td>   27.858</td> <td> 0.000</td> <td>    0.076</td> <td>    0.087</td>\n",
       "</tr>\n",
       "<tr>\n",
       "  <th>hum</th>                    <td>   -0.0058</td> <td>    0.001</td> <td>   -5.505</td> <td> 0.000</td> <td>   -0.008</td> <td>   -0.004</td>\n",
       "</tr>\n",
       "<tr>\n",
       "  <th>wind</th>                   <td>   -0.0262</td> <td>    0.002</td> <td>  -12.146</td> <td> 0.000</td> <td>   -0.030</td> <td>   -0.022</td>\n",
       "</tr>\n",
       "<tr>\n",
       "  <th>member_type_Registered</th> <td>  -13.4501</td> <td>    0.027</td> <td> -503.077</td> <td> 0.000</td> <td>  -13.502</td> <td>  -13.398</td>\n",
       "</tr>\n",
       "<tr>\n",
       "  <th>holiday_1</th>              <td>    0.8460</td> <td>    0.068</td> <td>   12.369</td> <td> 0.000</td> <td>    0.712</td> <td>    0.980</td>\n",
       "</tr>\n",
       "<tr>\n",
       "  <th>month_1</th>                <td>    2.4210</td> <td>    0.044</td> <td>   54.688</td> <td> 0.000</td> <td>    2.334</td> <td>    2.508</td>\n",
       "</tr>\n",
       "<tr>\n",
       "  <th>month_2</th>                <td>    2.3624</td> <td>    0.038</td> <td>   61.852</td> <td> 0.000</td> <td>    2.288</td> <td>    2.437</td>\n",
       "</tr>\n",
       "<tr>\n",
       "  <th>month_3</th>                <td>    2.9947</td> <td>    0.029</td> <td>  102.243</td> <td> 0.000</td> <td>    2.937</td> <td>    3.052</td>\n",
       "</tr>\n",
       "<tr>\n",
       "  <th>month_4</th>                <td>    3.7741</td> <td>    0.043</td> <td>   87.792</td> <td> 0.000</td> <td>    3.690</td> <td>    3.858</td>\n",
       "</tr>\n",
       "<tr>\n",
       "  <th>month_5</th>                <td>    3.3014</td> <td>    0.040</td> <td>   82.905</td> <td> 0.000</td> <td>    3.223</td> <td>    3.379</td>\n",
       "</tr>\n",
       "<tr>\n",
       "  <th>month_6</th>                <td>    2.2564</td> <td>    0.045</td> <td>   50.344</td> <td> 0.000</td> <td>    2.169</td> <td>    2.344</td>\n",
       "</tr>\n",
       "<tr>\n",
       "  <th>month_7</th>                <td>    1.9437</td> <td>    0.051</td> <td>   37.951</td> <td> 0.000</td> <td>    1.843</td> <td>    2.044</td>\n",
       "</tr>\n",
       "<tr>\n",
       "  <th>month_8</th>                <td>    2.2242</td> <td>    0.047</td> <td>   47.633</td> <td> 0.000</td> <td>    2.133</td> <td>    2.316</td>\n",
       "</tr>\n",
       "<tr>\n",
       "  <th>month_9</th>                <td>    2.2321</td> <td>    0.042</td> <td>   52.780</td> <td> 0.000</td> <td>    2.149</td> <td>    2.315</td>\n",
       "</tr>\n",
       "<tr>\n",
       "  <th>month_10</th>               <td>    2.5488</td> <td>    0.037</td> <td>   68.077</td> <td> 0.000</td> <td>    2.475</td> <td>    2.622</td>\n",
       "</tr>\n",
       "<tr>\n",
       "  <th>month_11</th>               <td>    2.5419</td> <td>    0.042</td> <td>   61.143</td> <td> 0.000</td> <td>    2.460</td> <td>    2.623</td>\n",
       "</tr>\n",
       "<tr>\n",
       "  <th>month_12</th>               <td>    2.1569</td> <td>    0.046</td> <td>   46.935</td> <td> 0.000</td> <td>    2.067</td> <td>    2.247</td>\n",
       "</tr>\n",
       "<tr>\n",
       "  <th>weekday_0</th>              <td>    5.3853</td> <td>    0.035</td> <td>  153.719</td> <td> 0.000</td> <td>    5.317</td> <td>    5.454</td>\n",
       "</tr>\n",
       "<tr>\n",
       "  <th>weekday_1</th>              <td>    4.1072</td> <td>    0.036</td> <td>  113.645</td> <td> 0.000</td> <td>    4.036</td> <td>    4.178</td>\n",
       "</tr>\n",
       "<tr>\n",
       "  <th>weekday_2</th>              <td>    3.8419</td> <td>    0.034</td> <td>  111.698</td> <td> 0.000</td> <td>    3.774</td> <td>    3.909</td>\n",
       "</tr>\n",
       "<tr>\n",
       "  <th>weekday_3</th>              <td>    3.8039</td> <td>    0.036</td> <td>  106.921</td> <td> 0.000</td> <td>    3.734</td> <td>    3.874</td>\n",
       "</tr>\n",
       "<tr>\n",
       "  <th>weekday_4</th>              <td>    3.9248</td> <td>    0.035</td> <td>  110.741</td> <td> 0.000</td> <td>    3.855</td> <td>    3.994</td>\n",
       "</tr>\n",
       "<tr>\n",
       "  <th>weekday_5</th>              <td>    4.1017</td> <td>    0.033</td> <td>  124.610</td> <td> 0.000</td> <td>    4.037</td> <td>    4.166</td>\n",
       "</tr>\n",
       "<tr>\n",
       "  <th>weekday_6</th>              <td>    5.5929</td> <td>    0.033</td> <td>  168.656</td> <td> 0.000</td> <td>    5.528</td> <td>    5.658</td>\n",
       "</tr>\n",
       "<tr>\n",
       "  <th>weather_cat_1</th>          <td>   10.6519</td> <td>    0.047</td> <td>  225.483</td> <td> 0.000</td> <td>   10.559</td> <td>   10.744</td>\n",
       "</tr>\n",
       "<tr>\n",
       "  <th>weather_cat_2</th>          <td>   10.3375</td> <td>    0.058</td> <td>  177.605</td> <td> 0.000</td> <td>   10.223</td> <td>   10.452</td>\n",
       "</tr>\n",
       "<tr>\n",
       "  <th>weather_cat_3</th>          <td>    9.7683</td> <td>    0.095</td> <td>  102.681</td> <td> 0.000</td> <td>    9.582</td> <td>    9.955</td>\n",
       "</tr>\n",
       "</table>\n",
       "<table class=\"simpletable\">\n",
       "<tr>\n",
       "  <th>Omnibus:</th>       <td>569424.653</td> <th>  Durbin-Watson:     </th>  <td>   2.002</td>  \n",
       "</tr>\n",
       "<tr>\n",
       "  <th>Prob(Omnibus):</th>   <td> 0.000</td>   <th>  Jarque-Bera (JB):  </th> <td>7378778.275</td>\n",
       "</tr>\n",
       "<tr>\n",
       "  <th>Skew:</th>            <td> 2.830</td>   <th>  Prob(JB):          </th>  <td>    0.00</td>  \n",
       "</tr>\n",
       "<tr>\n",
       "  <th>Kurtosis:</th>        <td>15.710</td>   <th>  Cond. No.          </th>  <td>1.21e+16</td>  \n",
       "</tr>\n",
       "</table>"
      ],
      "text/plain": [
       "<class 'statsmodels.iolib.summary.Summary'>\n",
       "\"\"\"\n",
       "                            OLS Regression Results                            \n",
       "==============================================================================\n",
       "Dep. Variable:              time_diff   R-squared:                       0.374\n",
       "Model:                            OLS   Adj. R-squared:                  0.374\n",
       "Method:                 Least Squares   F-statistic:                 2.186e+04\n",
       "Date:                Tue, 05 Dec 2017   Prob (F-statistic):               0.00\n",
       "Time:                        18:53:53   Log-Likelihood:            -3.3343e+06\n",
       "No. Observations:              914885   AIC:                         6.669e+06\n",
       "Df Residuals:                  914859   BIC:                         6.669e+06\n",
       "Df Model:                          25                                         \n",
       "Covariance Type:            nonrobust                                         \n",
       "==========================================================================================\n",
       "                             coef    std err          t      P>|t|      [0.025      0.975]\n",
       "------------------------------------------------------------------------------------------\n",
       "miles                      6.3258      0.013    487.018      0.000       6.300       6.351\n",
       "temp                       0.0815      0.003     27.858      0.000       0.076       0.087\n",
       "hum                       -0.0058      0.001     -5.505      0.000      -0.008      -0.004\n",
       "wind                      -0.0262      0.002    -12.146      0.000      -0.030      -0.022\n",
       "member_type_Registered   -13.4501      0.027   -503.077      0.000     -13.502     -13.398\n",
       "holiday_1                  0.8460      0.068     12.369      0.000       0.712       0.980\n",
       "month_1                    2.4210      0.044     54.688      0.000       2.334       2.508\n",
       "month_2                    2.3624      0.038     61.852      0.000       2.288       2.437\n",
       "month_3                    2.9947      0.029    102.243      0.000       2.937       3.052\n",
       "month_4                    3.7741      0.043     87.792      0.000       3.690       3.858\n",
       "month_5                    3.3014      0.040     82.905      0.000       3.223       3.379\n",
       "month_6                    2.2564      0.045     50.344      0.000       2.169       2.344\n",
       "month_7                    1.9437      0.051     37.951      0.000       1.843       2.044\n",
       "month_8                    2.2242      0.047     47.633      0.000       2.133       2.316\n",
       "month_9                    2.2321      0.042     52.780      0.000       2.149       2.315\n",
       "month_10                   2.5488      0.037     68.077      0.000       2.475       2.622\n",
       "month_11                   2.5419      0.042     61.143      0.000       2.460       2.623\n",
       "month_12                   2.1569      0.046     46.935      0.000       2.067       2.247\n",
       "weekday_0                  5.3853      0.035    153.719      0.000       5.317       5.454\n",
       "weekday_1                  4.1072      0.036    113.645      0.000       4.036       4.178\n",
       "weekday_2                  3.8419      0.034    111.698      0.000       3.774       3.909\n",
       "weekday_3                  3.8039      0.036    106.921      0.000       3.734       3.874\n",
       "weekday_4                  3.9248      0.035    110.741      0.000       3.855       3.994\n",
       "weekday_5                  4.1017      0.033    124.610      0.000       4.037       4.166\n",
       "weekday_6                  5.5929      0.033    168.656      0.000       5.528       5.658\n",
       "weather_cat_1             10.6519      0.047    225.483      0.000      10.559      10.744\n",
       "weather_cat_2             10.3375      0.058    177.605      0.000      10.223      10.452\n",
       "weather_cat_3              9.7683      0.095    102.681      0.000       9.582       9.955\n",
       "==============================================================================\n",
       "Omnibus:                   569424.653   Durbin-Watson:                   2.002\n",
       "Prob(Omnibus):                  0.000   Jarque-Bera (JB):          7378778.275\n",
       "Skew:                           2.830   Prob(JB):                         0.00\n",
       "Kurtosis:                      15.710   Cond. No.                     1.21e+16\n",
       "==============================================================================\n",
       "\n",
       "Warnings:\n",
       "[1] Standard Errors assume that the covariance matrix of the errors is correctly specified.\n",
       "[2] The smallest eigenvalue is 2.85e-23. This might indicate that there are\n",
       "strong multicollinearity problems or that the design matrix is singular.\n",
       "\"\"\""
      ]
     },
     "execution_count": 24,
     "metadata": {},
     "output_type": "execute_result"
    }
   ],
   "source": [
    "# Use statsmodel to check the statistical side of the model\n",
    "model2_sm = sm.OLS(y2_train, X2_train).fit()\n",
    "model2_sm.summary()"
   ]
  },
  {
   "cell_type": "code",
   "execution_count": null,
   "metadata": {
    "collapsed": true
   },
   "outputs": [],
   "source": []
  },
  {
   "cell_type": "markdown",
   "metadata": {},
   "source": [
    "### Model 3 - All variables"
   ]
  },
  {
   "cell_type": "code",
   "execution_count": 25,
   "metadata": {
    "collapsed": true
   },
   "outputs": [],
   "source": [
    "# Keep all but time_diff\n",
    "X3 = bikeshare_machine.drop('time_diff', 1)\n",
    "y3 = bikeshare_machine['time_diff']"
   ]
  },
  {
   "cell_type": "code",
   "execution_count": 26,
   "metadata": {},
   "outputs": [
    {
     "data": {
      "text/plain": [
       "((914885, 36), (304962, 36), (914885,), (304962,))"
      ]
     },
     "execution_count": 26,
     "metadata": {},
     "output_type": "execute_result"
    }
   ],
   "source": [
    "# Split the data into training and testing sets and check the shape\n",
    "X3_train, X3_test, y3_train, y3_test = train_test_split(X3, y3, test_size = 0.25, random_state=17)\n",
    "X3_train.shape, X3_test.shape, y3_train.shape, y3_test.shape"
   ]
  },
  {
   "cell_type": "code",
   "execution_count": 27,
   "metadata": {},
   "outputs": [
    {
     "data": {
      "text/plain": [
       "LinearRegression(copy_X=True, fit_intercept=True, n_jobs=1, normalize=False)"
      ]
     },
     "execution_count": 27,
     "metadata": {},
     "output_type": "execute_result"
    }
   ],
   "source": [
    "# Fit model\n",
    "model3 = LinearRegression()\n",
    "model3.fit(X3_train, y3_train)"
   ]
  },
  {
   "cell_type": "code",
   "execution_count": 28,
   "metadata": {
    "collapsed": true
   },
   "outputs": [],
   "source": [
    "pred3 = model3.predict(X3_test)\n",
    "cvscores_model3 = cross_val_score(model3, X3_train, y3_train, cv=5)\n",
    "model3_r = model3.score(X3_test, y3_test)\n",
    "model3_mse = mean_squared_error(y3_test, pred3)\n",
    "model3_rmse = np.sqrt(model3_mse)\n",
    "adjustedr3 = 1 - (1-model3_r)*(len(y3_test)-1)/(len(y3_test)-X3_test.shape[1]-1)"
   ]
  },
  {
   "cell_type": "code",
   "execution_count": 29,
   "metadata": {},
   "outputs": [
    {
     "data": {
      "text/plain": [
       "(array([ 0.37347279,  0.37017545,  0.37454757,  0.37420571,  0.37726468]),\n",
       " 0.37100423249330816,\n",
       " 0.37092997210918011,\n",
       " 86.355583955901238,\n",
       " 9.2927705209964824)"
      ]
     },
     "execution_count": 29,
     "metadata": {},
     "output_type": "execute_result"
    }
   ],
   "source": [
    "cvscores_model3, model3_r, adjustedr3, model3_mse, model3_rmse"
   ]
  },
  {
   "cell_type": "code",
   "execution_count": 30,
   "metadata": {},
   "outputs": [
    {
     "data": {
      "text/html": [
       "<table class=\"simpletable\">\n",
       "<caption>OLS Regression Results</caption>\n",
       "<tr>\n",
       "  <th>Dep. Variable:</th>        <td>time_diff</td>    <th>  R-squared:         </th>  <td>   0.374</td>  \n",
       "</tr>\n",
       "<tr>\n",
       "  <th>Model:</th>                   <td>OLS</td>       <th>  Adj. R-squared:    </th>  <td>   0.374</td>  \n",
       "</tr>\n",
       "<tr>\n",
       "  <th>Method:</th>             <td>Least Squares</td>  <th>  F-statistic:       </th>  <td>1.952e+04</td> \n",
       "</tr>\n",
       "<tr>\n",
       "  <th>Date:</th>             <td>Tue, 05 Dec 2017</td> <th>  Prob (F-statistic):</th>   <td>  0.00</td>   \n",
       "</tr>\n",
       "<tr>\n",
       "  <th>Time:</th>                 <td>18:54:23</td>     <th>  Log-Likelihood:    </th> <td>-3.3343e+06</td>\n",
       "</tr>\n",
       "<tr>\n",
       "  <th>No. Observations:</th>      <td>914885</td>      <th>  AIC:               </th>  <td>6.669e+06</td> \n",
       "</tr>\n",
       "<tr>\n",
       "  <th>Df Residuals:</th>          <td>914856</td>      <th>  BIC:               </th>  <td>6.669e+06</td> \n",
       "</tr>\n",
       "<tr>\n",
       "  <th>Df Model:</th>              <td>    28</td>      <th>                     </th>      <td> </td>     \n",
       "</tr>\n",
       "<tr>\n",
       "  <th>Covariance Type:</th>      <td>nonrobust</td>    <th>                     </th>      <td> </td>     \n",
       "</tr>\n",
       "</table>\n",
       "<table class=\"simpletable\">\n",
       "<tr>\n",
       "             <td></td>               <th>coef</th>     <th>std err</th>      <th>t</th>      <th>P>|t|</th>  <th>[0.025</th>    <th>0.975]</th>  \n",
       "</tr>\n",
       "<tr>\n",
       "  <th>temperature</th>            <td>    3.0753</td> <td>    0.017</td> <td>  183.125</td> <td> 0.000</td> <td>    3.042</td> <td>    3.108</td>\n",
       "</tr>\n",
       "<tr>\n",
       "  <th>humidity</th>               <td>-5.698e-05</td> <td> 1.05e-05</td> <td>   -5.450</td> <td> 0.000</td> <td>-7.75e-05</td> <td>-3.65e-05</td>\n",
       "</tr>\n",
       "<tr>\n",
       "  <th>windspeed</th>              <td>   -0.0004</td> <td> 3.22e-05</td> <td>  -12.201</td> <td> 0.000</td> <td>   -0.000</td> <td>   -0.000</td>\n",
       "</tr>\n",
       "<tr>\n",
       "  <th>miles</th>                  <td>    6.3259</td> <td>    0.013</td> <td>  487.025</td> <td> 0.000</td> <td>    6.300</td> <td>    6.351</td>\n",
       "</tr>\n",
       "<tr>\n",
       "  <th>temp</th>                   <td>    0.0159</td> <td>    0.003</td> <td>    5.253</td> <td> 0.000</td> <td>    0.010</td> <td>    0.022</td>\n",
       "</tr>\n",
       "<tr>\n",
       "  <th>hum</th>                    <td>   -0.0057</td> <td>    0.001</td> <td>   -5.450</td> <td> 0.000</td> <td>   -0.008</td> <td>   -0.004</td>\n",
       "</tr>\n",
       "<tr>\n",
       "  <th>wind</th>                   <td>   -0.0264</td> <td>    0.002</td> <td>  -12.201</td> <td> 0.000</td> <td>   -0.031</td> <td>   -0.022</td>\n",
       "</tr>\n",
       "<tr>\n",
       "  <th>member_type_Registered</th> <td>  -13.4488</td> <td>    0.027</td> <td> -502.942</td> <td> 0.000</td> <td>  -13.501</td> <td>  -13.396</td>\n",
       "</tr>\n",
       "<tr>\n",
       "  <th>holiday_1</th>              <td>    3.7192</td> <td>    0.054</td> <td>   68.572</td> <td> 0.000</td> <td>    3.613</td> <td>    3.825</td>\n",
       "</tr>\n",
       "<tr>\n",
       "  <th>work_day_1</th>             <td>    2.8791</td> <td>    0.030</td> <td>   97.556</td> <td> 0.000</td> <td>    2.821</td> <td>    2.937</td>\n",
       "</tr>\n",
       "<tr>\n",
       "  <th>season_1</th>               <td>    4.4520</td> <td>    0.047</td> <td>   93.905</td> <td> 0.000</td> <td>    4.359</td> <td>    4.545</td>\n",
       "</tr>\n",
       "<tr>\n",
       "  <th>season_2</th>               <td>    4.5654</td> <td>    0.044</td> <td>  104.641</td> <td> 0.000</td> <td>    4.480</td> <td>    4.651</td>\n",
       "</tr>\n",
       "<tr>\n",
       "  <th>season_3</th>               <td>    4.6136</td> <td>    0.047</td> <td>   98.771</td> <td> 0.000</td> <td>    4.522</td> <td>    4.705</td>\n",
       "</tr>\n",
       "<tr>\n",
       "  <th>season_4</th>               <td>    4.4343</td> <td>    0.052</td> <td>   84.707</td> <td> 0.000</td> <td>    4.332</td> <td>    4.537</td>\n",
       "</tr>\n",
       "<tr>\n",
       "  <th>month_1</th>                <td>    1.4271</td> <td>    0.059</td> <td>   24.195</td> <td> 0.000</td> <td>    1.312</td> <td>    1.543</td>\n",
       "</tr>\n",
       "<tr>\n",
       "  <th>month_2</th>                <td>    1.3692</td> <td>    0.055</td> <td>   25.047</td> <td> 0.000</td> <td>    1.262</td> <td>    1.476</td>\n",
       "</tr>\n",
       "<tr>\n",
       "  <th>month_3</th>                <td>    1.9595</td> <td>    0.041</td> <td>   48.364</td> <td> 0.000</td> <td>    1.880</td> <td>    2.039</td>\n",
       "</tr>\n",
       "<tr>\n",
       "  <th>month_4</th>                <td>    2.6692</td> <td>    0.054</td> <td>   49.480</td> <td> 0.000</td> <td>    2.563</td> <td>    2.775</td>\n",
       "</tr>\n",
       "<tr>\n",
       "  <th>month_5</th>                <td>    2.1957</td> <td>    0.051</td> <td>   42.806</td> <td> 0.000</td> <td>    2.095</td> <td>    2.296</td>\n",
       "</tr>\n",
       "<tr>\n",
       "  <th>month_6</th>                <td>    1.1355</td> <td>    0.049</td> <td>   23.215</td> <td> 0.000</td> <td>    1.040</td> <td>    1.231</td>\n",
       "</tr>\n",
       "<tr>\n",
       "  <th>month_7</th>                <td>    0.7916</td> <td>    0.063</td> <td>   12.623</td> <td> 0.000</td> <td>    0.669</td> <td>    0.914</td>\n",
       "</tr>\n",
       "<tr>\n",
       "  <th>month_8</th>                <td>    1.0716</td> <td>    0.059</td> <td>   18.086</td> <td> 0.000</td> <td>    0.955</td> <td>    1.188</td>\n",
       "</tr>\n",
       "<tr>\n",
       "  <th>month_9</th>                <td>    1.1293</td> <td>    0.049</td> <td>   22.964</td> <td> 0.000</td> <td>    1.033</td> <td>    1.226</td>\n",
       "</tr>\n",
       "<tr>\n",
       "  <th>month_10</th>               <td>    1.5738</td> <td>    0.059</td> <td>   26.892</td> <td> 0.000</td> <td>    1.459</td> <td>    1.688</td>\n",
       "</tr>\n",
       "<tr>\n",
       "  <th>month_11</th>               <td>    1.5669</td> <td>    0.062</td> <td>   25.420</td> <td> 0.000</td> <td>    1.446</td> <td>    1.688</td>\n",
       "</tr>\n",
       "<tr>\n",
       "  <th>month_12</th>               <td>    1.1761</td> <td>    0.055</td> <td>   21.358</td> <td> 0.000</td> <td>    1.068</td> <td>    1.284</td>\n",
       "</tr>\n",
       "<tr>\n",
       "  <th>weekday_0</th>              <td>    5.6300</td> <td>    0.038</td> <td>  148.446</td> <td> 0.000</td> <td>    5.556</td> <td>    5.704</td>\n",
       "</tr>\n",
       "<tr>\n",
       "  <th>weekday_1</th>              <td>    1.4727</td> <td>    0.025</td> <td>   59.090</td> <td> 0.000</td> <td>    1.424</td> <td>    1.522</td>\n",
       "</tr>\n",
       "<tr>\n",
       "  <th>weekday_2</th>              <td>    1.2064</td> <td>    0.026</td> <td>   46.860</td> <td> 0.000</td> <td>    1.156</td> <td>    1.257</td>\n",
       "</tr>\n",
       "<tr>\n",
       "  <th>weekday_3</th>              <td>    1.1660</td> <td>    0.027</td> <td>   43.941</td> <td> 0.000</td> <td>    1.114</td> <td>    1.218</td>\n",
       "</tr>\n",
       "<tr>\n",
       "  <th>weekday_4</th>              <td>    1.2870</td> <td>    0.026</td> <td>   49.258</td> <td> 0.000</td> <td>    1.236</td> <td>    1.338</td>\n",
       "</tr>\n",
       "<tr>\n",
       "  <th>weekday_5</th>              <td>    1.4662</td> <td>    0.025</td> <td>   59.490</td> <td> 0.000</td> <td>    1.418</td> <td>    1.515</td>\n",
       "</tr>\n",
       "<tr>\n",
       "  <th>weekday_6</th>              <td>    5.8370</td> <td>    0.036</td> <td>  161.873</td> <td> 0.000</td> <td>    5.766</td> <td>    5.908</td>\n",
       "</tr>\n",
       "<tr>\n",
       "  <th>weather_cat_1</th>          <td>    6.4269</td> <td>    0.029</td> <td>  219.641</td> <td> 0.000</td> <td>    6.370</td> <td>    6.484</td>\n",
       "</tr>\n",
       "<tr>\n",
       "  <th>weather_cat_2</th>          <td>    6.1110</td> <td>    0.038</td> <td>  161.576</td> <td> 0.000</td> <td>    6.037</td> <td>    6.185</td>\n",
       "</tr>\n",
       "<tr>\n",
       "  <th>weather_cat_3</th>          <td>    5.5274</td> <td>    0.075</td> <td>   74.154</td> <td> 0.000</td> <td>    5.381</td> <td>    5.674</td>\n",
       "</tr>\n",
       "</table>\n",
       "<table class=\"simpletable\">\n",
       "<tr>\n",
       "  <th>Omnibus:</th>       <td>569414.387</td> <th>  Durbin-Watson:     </th>  <td>   2.002</td>  \n",
       "</tr>\n",
       "<tr>\n",
       "  <th>Prob(Omnibus):</th>   <td> 0.000</td>   <th>  Jarque-Bera (JB):  </th> <td>7378305.990</td>\n",
       "</tr>\n",
       "<tr>\n",
       "  <th>Skew:</th>            <td> 2.830</td>   <th>  Prob(JB):          </th>  <td>    0.00</td>  \n",
       "</tr>\n",
       "<tr>\n",
       "  <th>Kurtosis:</th>        <td>15.709</td>   <th>  Cond. No.          </th>  <td>1.59e+16</td>  \n",
       "</tr>\n",
       "</table>"
      ],
      "text/plain": [
       "<class 'statsmodels.iolib.summary.Summary'>\n",
       "\"\"\"\n",
       "                            OLS Regression Results                            \n",
       "==============================================================================\n",
       "Dep. Variable:              time_diff   R-squared:                       0.374\n",
       "Model:                            OLS   Adj. R-squared:                  0.374\n",
       "Method:                 Least Squares   F-statistic:                 1.952e+04\n",
       "Date:                Tue, 05 Dec 2017   Prob (F-statistic):               0.00\n",
       "Time:                        18:54:23   Log-Likelihood:            -3.3343e+06\n",
       "No. Observations:              914885   AIC:                         6.669e+06\n",
       "Df Residuals:                  914856   BIC:                         6.669e+06\n",
       "Df Model:                          28                                         \n",
       "Covariance Type:            nonrobust                                         \n",
       "==========================================================================================\n",
       "                             coef    std err          t      P>|t|      [0.025      0.975]\n",
       "------------------------------------------------------------------------------------------\n",
       "temperature                3.0753      0.017    183.125      0.000       3.042       3.108\n",
       "humidity               -5.698e-05   1.05e-05     -5.450      0.000   -7.75e-05   -3.65e-05\n",
       "windspeed                 -0.0004   3.22e-05    -12.201      0.000      -0.000      -0.000\n",
       "miles                      6.3259      0.013    487.025      0.000       6.300       6.351\n",
       "temp                       0.0159      0.003      5.253      0.000       0.010       0.022\n",
       "hum                       -0.0057      0.001     -5.450      0.000      -0.008      -0.004\n",
       "wind                      -0.0264      0.002    -12.201      0.000      -0.031      -0.022\n",
       "member_type_Registered   -13.4488      0.027   -502.942      0.000     -13.501     -13.396\n",
       "holiday_1                  3.7192      0.054     68.572      0.000       3.613       3.825\n",
       "work_day_1                 2.8791      0.030     97.556      0.000       2.821       2.937\n",
       "season_1                   4.4520      0.047     93.905      0.000       4.359       4.545\n",
       "season_2                   4.5654      0.044    104.641      0.000       4.480       4.651\n",
       "season_3                   4.6136      0.047     98.771      0.000       4.522       4.705\n",
       "season_4                   4.4343      0.052     84.707      0.000       4.332       4.537\n",
       "month_1                    1.4271      0.059     24.195      0.000       1.312       1.543\n",
       "month_2                    1.3692      0.055     25.047      0.000       1.262       1.476\n",
       "month_3                    1.9595      0.041     48.364      0.000       1.880       2.039\n",
       "month_4                    2.6692      0.054     49.480      0.000       2.563       2.775\n",
       "month_5                    2.1957      0.051     42.806      0.000       2.095       2.296\n",
       "month_6                    1.1355      0.049     23.215      0.000       1.040       1.231\n",
       "month_7                    0.7916      0.063     12.623      0.000       0.669       0.914\n",
       "month_8                    1.0716      0.059     18.086      0.000       0.955       1.188\n",
       "month_9                    1.1293      0.049     22.964      0.000       1.033       1.226\n",
       "month_10                   1.5738      0.059     26.892      0.000       1.459       1.688\n",
       "month_11                   1.5669      0.062     25.420      0.000       1.446       1.688\n",
       "month_12                   1.1761      0.055     21.358      0.000       1.068       1.284\n",
       "weekday_0                  5.6300      0.038    148.446      0.000       5.556       5.704\n",
       "weekday_1                  1.4727      0.025     59.090      0.000       1.424       1.522\n",
       "weekday_2                  1.2064      0.026     46.860      0.000       1.156       1.257\n",
       "weekday_3                  1.1660      0.027     43.941      0.000       1.114       1.218\n",
       "weekday_4                  1.2870      0.026     49.258      0.000       1.236       1.338\n",
       "weekday_5                  1.4662      0.025     59.490      0.000       1.418       1.515\n",
       "weekday_6                  5.8370      0.036    161.873      0.000       5.766       5.908\n",
       "weather_cat_1              6.4269      0.029    219.641      0.000       6.370       6.484\n",
       "weather_cat_2              6.1110      0.038    161.576      0.000       6.037       6.185\n",
       "weather_cat_3              5.5274      0.075     74.154      0.000       5.381       5.674\n",
       "==============================================================================\n",
       "Omnibus:                   569414.387   Durbin-Watson:                   2.002\n",
       "Prob(Omnibus):                  0.000   Jarque-Bera (JB):          7378305.990\n",
       "Skew:                           2.830   Prob(JB):                         0.00\n",
       "Kurtosis:                      15.709   Cond. No.                     1.59e+16\n",
       "==============================================================================\n",
       "\n",
       "Warnings:\n",
       "[1] Standard Errors assume that the covariance matrix of the errors is correctly specified.\n",
       "[2] The smallest eigenvalue is 1.67e-23. This might indicate that there are\n",
       "strong multicollinearity problems or that the design matrix is singular.\n",
       "\"\"\""
      ]
     },
     "execution_count": 30,
     "metadata": {},
     "output_type": "execute_result"
    }
   ],
   "source": [
    "# Use statsmodel to check the statistical side of the model\n",
    "model3_sm = sm.OLS(y3_train, X3_train).fit()\n",
    "model3_sm.summary()"
   ]
  },
  {
   "cell_type": "code",
   "execution_count": null,
   "metadata": {
    "collapsed": true
   },
   "outputs": [],
   "source": []
  },
  {
   "cell_type": "markdown",
   "metadata": {},
   "source": [
    "### Model 4 - Ridge with Round 1"
   ]
  },
  {
   "cell_type": "code",
   "execution_count": 31,
   "metadata": {},
   "outputs": [
    {
     "data": {
      "text/plain": [
       "GridSearchCV(cv=5, error_score='raise',\n",
       "       estimator=Ridge(alpha=1.0, copy_X=True, fit_intercept=True, max_iter=None,\n",
       "   normalize=False, random_state=None, solver='auto', tol=0.001),\n",
       "       fit_params={}, iid=True, n_jobs=1,\n",
       "       param_grid={'alpha': array([ 0.0001])}, pre_dispatch='2*n_jobs',\n",
       "       refit=True, return_train_score=True, scoring=None, verbose=0)"
      ]
     },
     "execution_count": 31,
     "metadata": {},
     "output_type": "execute_result"
    }
   ],
   "source": [
    "# Fit the model with 5 folds\n",
    "alpha = np.arange(0.0001, 20, 25)\n",
    "param_grid = {'alpha': alpha}\n",
    "ridge1 = Ridge(fit_intercept=True)\n",
    "ridge1_gs = GridSearchCV(ridge1, param_grid, cv=5)\n",
    "ridge1_gs.fit(X1_train, y1_train)"
   ]
  },
  {
   "cell_type": "code",
   "execution_count": 32,
   "metadata": {
    "collapsed": true
   },
   "outputs": [],
   "source": [
    "pred4 = ridge1_gs.predict(X1_test)\n",
    "ridge1_r = ridge1_gs.score(X1_test, y1_test)\n",
    "ridge1_mse = mean_squared_error(y1_test, pred4)\n",
    "ridge1_rmse = np.sqrt(ridge1_mse)\n",
    "adjustedr4 = 1 - (1-ridge1_r)*(len(y1_test)-1)/(len(y1_test)-X1_test.shape[1]-1)"
   ]
  },
  {
   "cell_type": "code",
   "execution_count": 33,
   "metadata": {},
   "outputs": [
    {
     "data": {
      "text/plain": [
       "(0.37016120078620007,\n",
       " 86.471324790929799,\n",
       " 9.298995902296646,\n",
       " 0.37013228512810536)"
      ]
     },
     "execution_count": 33,
     "metadata": {},
     "output_type": "execute_result"
    }
   ],
   "source": [
    "ridge1_r, ridge1_mse, ridge1_rmse, adjustedr4"
   ]
  },
  {
   "cell_type": "code",
   "execution_count": null,
   "metadata": {
    "collapsed": true
   },
   "outputs": [],
   "source": []
  },
  {
   "cell_type": "markdown",
   "metadata": {
    "collapsed": true
   },
   "source": [
    "### Ridge with Round 2"
   ]
  },
  {
   "cell_type": "code",
   "execution_count": 34,
   "metadata": {},
   "outputs": [
    {
     "data": {
      "text/plain": [
       "GridSearchCV(cv=5, error_score='raise',\n",
       "       estimator=Ridge(alpha=1.0, copy_X=True, fit_intercept=True, max_iter=None,\n",
       "   normalize=False, random_state=None, solver='auto', tol=0.001),\n",
       "       fit_params={}, iid=True, n_jobs=1,\n",
       "       param_grid={'alpha': array([ 0.0001])}, pre_dispatch='2*n_jobs',\n",
       "       refit=True, return_train_score=True, scoring=None, verbose=0)"
      ]
     },
     "execution_count": 34,
     "metadata": {},
     "output_type": "execute_result"
    }
   ],
   "source": [
    "# Fit the model with 5 folds\n",
    "alpha = np.arange(0.0001, 20, 25)\n",
    "param_grid = {'alpha': alpha}\n",
    "ridge2 = Ridge(fit_intercept=True)\n",
    "ridge2_gs = GridSearchCV(ridge2, param_grid, cv=5)\n",
    "ridge2_gs.fit(X2_train, y2_train)"
   ]
  },
  {
   "cell_type": "code",
   "execution_count": 35,
   "metadata": {
    "collapsed": true
   },
   "outputs": [],
   "source": [
    "pred5 = ridge2_gs.predict(X2_test)\n",
    "ridge2_r = ridge2_gs.score(X2_test, y2_test)\n",
    "ridge2_mse = mean_squared_error(y2_test, pred5)\n",
    "ridge2_rmse = np.sqrt(ridge2_mse)\n",
    "adjustedr5 = 1 - (1-ridge2_r)*(len(y2_test)-1)/(len(y2_test)-X2_test.shape[1]-1)"
   ]
  },
  {
   "cell_type": "code",
   "execution_count": 36,
   "metadata": {},
   "outputs": [
    {
     "data": {
      "text/plain": [
       "(0.37098459273489537,\n",
       " 86.358280321908936,\n",
       " 9.2929155985572649,\n",
       " 0.37092683437025975)"
      ]
     },
     "execution_count": 36,
     "metadata": {},
     "output_type": "execute_result"
    }
   ],
   "source": [
    "ridge2_r, ridge2_mse, ridge2_rmse, adjustedr5"
   ]
  },
  {
   "cell_type": "code",
   "execution_count": null,
   "metadata": {
    "collapsed": true
   },
   "outputs": [],
   "source": []
  },
  {
   "cell_type": "markdown",
   "metadata": {
    "collapsed": true
   },
   "source": [
    "### Ridge with all data"
   ]
  },
  {
   "cell_type": "code",
   "execution_count": 37,
   "metadata": {},
   "outputs": [
    {
     "data": {
      "text/plain": [
       "GridSearchCV(cv=5, error_score='raise',\n",
       "       estimator=Ridge(alpha=1.0, copy_X=True, fit_intercept=True, max_iter=None,\n",
       "   normalize=False, random_state=None, solver='auto', tol=0.001),\n",
       "       fit_params={}, iid=True, n_jobs=1,\n",
       "       param_grid={'alpha': array([ 0.0001])}, pre_dispatch='2*n_jobs',\n",
       "       refit=True, return_train_score=True, scoring=None, verbose=0)"
      ]
     },
     "execution_count": 37,
     "metadata": {},
     "output_type": "execute_result"
    }
   ],
   "source": [
    "# Fit the model with 5 folds\n",
    "alpha = np.arange(0.0001, 20, 25)\n",
    "param_grid = {'alpha': alpha}\n",
    "ridge3 = Ridge(fit_intercept=True)\n",
    "ridge3_gs = GridSearchCV(ridge3, param_grid, cv=5)\n",
    "ridge3_gs.fit(X3_train, y3_train)"
   ]
  },
  {
   "cell_type": "code",
   "execution_count": 38,
   "metadata": {
    "collapsed": true
   },
   "outputs": [],
   "source": [
    "pred6 = ridge3_gs.predict(X3_test)\n",
    "ridge3_r = ridge3_gs.score(X3_test, y3_test)\n",
    "ridge3_mse = mean_squared_error(y3_test, pred6)\n",
    "ridge3_rmse = np.sqrt(ridge3_mse)\n",
    "adjustedr6 = 1 - (1-ridge3_r)*(len(y3_test)-1)/(len(y3_test)-X3_test.shape[1]-1)"
   ]
  },
  {
   "cell_type": "code",
   "execution_count": 39,
   "metadata": {},
   "outputs": [
    {
     "data": {
      "text/plain": [
       "(0.37100423249431969,\n",
       " 86.35558395576237,\n",
       " 9.292770520989011,\n",
       " 0.37092997211019174)"
      ]
     },
     "execution_count": 39,
     "metadata": {},
     "output_type": "execute_result"
    }
   ],
   "source": [
    "ridge3_r, ridge3_mse, ridge3_rmse, adjustedr6"
   ]
  },
  {
   "cell_type": "code",
   "execution_count": null,
   "metadata": {
    "collapsed": true
   },
   "outputs": [],
   "source": []
  }
 ],
 "metadata": {
  "kernelspec": {
   "display_name": "Python 3",
   "language": "python",
   "name": "python3"
  },
  "language_info": {
   "codemirror_mode": {
    "name": "ipython",
    "version": 3
   },
   "file_extension": ".py",
   "mimetype": "text/x-python",
   "name": "python",
   "nbconvert_exporter": "python",
   "pygments_lexer": "ipython3",
   "version": "3.6.1"
  }
 },
 "nbformat": 4,
 "nbformat_minor": 2
}
