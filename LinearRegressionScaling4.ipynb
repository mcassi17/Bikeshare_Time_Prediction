{
 "cells": [
  {
   "cell_type": "code",
   "execution_count": 1,
   "metadata": {
    "collapsed": true
   },
   "outputs": [],
   "source": [
    "import pandas as pd\n",
    "import numpy as np\n",
    "import matplotlib.pyplot as plt\n",
    "from datetime import datetime \n",
    "import seaborn as sns\n",
    "%matplotlib inline"
   ]
  },
  {
   "cell_type": "code",
   "execution_count": 2,
   "metadata": {
    "collapsed": true
   },
   "outputs": [],
   "source": [
    "from sklearn.model_selection import train_test_split\n",
    "from sklearn.metrics import mean_squared_error\n",
    "from sklearn.metrics import explained_variance_score\n",
    "from sklearn.metrics import r2_score\n",
    "from sklearn.model_selection import cross_val_score\n",
    "from sklearn.utils import shuffle\n",
    "from sklearn.preprocessing import StandardScaler\n",
    "from sklearn.linear_model import LinearRegression\n",
    "from sklearn.base import TransformerMixin"
   ]
  },
  {
   "cell_type": "code",
   "execution_count": 3,
   "metadata": {
    "collapsed": true
   },
   "outputs": [],
   "source": [
    "def set_data(file):\n",
    "    bikeshare_machine = pd.read_csv(file, \n",
    "                        parse_dates=['Start date', 'End date', 'start_date_short', 'end_date_short'])\n",
    "    bikeshare_machine.drop('Unnamed: 0', 1, inplace=True)\n",
    "    included_cols = ['Member Type','time_diff','season','mnth','holiday',\n",
    "                     'weekday','workingday','weathersit','temp','hum','windspeed','miles']\n",
    "    bikeshare_machine = bikeshare_machine[included_cols]\n",
    "    bikeshare_machine['season'] = bikeshare_machine['season'].astype('category')\n",
    "    bikeshare_machine['mnth'] = bikeshare_machine['mnth'].astype('category')\n",
    "    bikeshare_machine['holiday'] = bikeshare_machine['holiday'].astype('category')\n",
    "    bikeshare_machine['weekday'] = bikeshare_machine['weekday'].astype('category')\n",
    "    bikeshare_machine['workingday'] = bikeshare_machine['workingday'].astype('category')\n",
    "    bikeshare_machine['weathersit'] = bikeshare_machine['weathersit'].astype('category')\n",
    "    bikeshare_machine['Member Type'] = bikeshare_machine['Member Type'].astype('category')\n",
    "    col_names = ['member_type','time_diff','season','month','holiday',\n",
    "             'weekday','work_day','weather_cat','temperature','humidity','windspeed','miles']\n",
    "    bikeshare_machine.columns = col_names\n",
    "    tmin = -8\n",
    "    tmax = 39\n",
    "    hum_max = 100\n",
    "    wind_max = 67\n",
    "    bikeshare_machine['temp'] = bikeshare_machine['temperature'] * (tmax - tmin) + tmin\n",
    "    bikeshare_machine['hum'] = bikeshare_machine['humidity'] * 100\n",
    "    bikeshare_machine['wind'] = bikeshare_machine['windspeed'] * 67\n",
    "    bikeshare_machine.drop(['temperature', 'humidity', 'windspeed'], 1)\n",
    "    bikeshare_machine = pd.get_dummies(bikeshare_machine, \n",
    "                                 columns=['member_type','holiday','work_day'], drop_first=True)\n",
    "    bikeshare_machine = pd.get_dummies(bikeshare_machine, \n",
    "                                 columns=['season','month','weekday','weather_cat'])\n",
    "    bikeshare_machine = shuffle(bikeshare_machine)\n",
    "    return bikeshare_machine"
   ]
  },
  {
   "cell_type": "code",
   "execution_count": 4,
   "metadata": {
    "collapsed": true
   },
   "outputs": [],
   "source": [
    "file = 'less_bikeshare_lat_lon.csv'\n",
    "bikeshare_machine = set_data(file)"
   ]
  },
  {
   "cell_type": "code",
   "execution_count": 5,
   "metadata": {},
   "outputs": [
    {
     "data": {
      "text/html": [
       "<div>\n",
       "<style>\n",
       "    .dataframe thead tr:only-child th {\n",
       "        text-align: right;\n",
       "    }\n",
       "\n",
       "    .dataframe thead th {\n",
       "        text-align: left;\n",
       "    }\n",
       "\n",
       "    .dataframe tbody tr th {\n",
       "        vertical-align: top;\n",
       "    }\n",
       "</style>\n",
       "<table border=\"1\" class=\"dataframe\">\n",
       "  <thead>\n",
       "    <tr style=\"text-align: right;\">\n",
       "      <th></th>\n",
       "      <th>time_diff</th>\n",
       "      <th>temperature</th>\n",
       "      <th>humidity</th>\n",
       "      <th>windspeed</th>\n",
       "      <th>miles</th>\n",
       "      <th>temp</th>\n",
       "      <th>hum</th>\n",
       "      <th>wind</th>\n",
       "      <th>member_type_Registered</th>\n",
       "      <th>holiday_1</th>\n",
       "      <th>...</th>\n",
       "      <th>weekday_0</th>\n",
       "      <th>weekday_1</th>\n",
       "      <th>weekday_2</th>\n",
       "      <th>weekday_3</th>\n",
       "      <th>weekday_4</th>\n",
       "      <th>weekday_5</th>\n",
       "      <th>weekday_6</th>\n",
       "      <th>weather_cat_1</th>\n",
       "      <th>weather_cat_2</th>\n",
       "      <th>weather_cat_3</th>\n",
       "    </tr>\n",
       "  </thead>\n",
       "  <tbody>\n",
       "    <tr>\n",
       "      <th>403526</th>\n",
       "      <td>25.0</td>\n",
       "      <td>0.640833</td>\n",
       "      <td>0.455417</td>\n",
       "      <td>0.146763</td>\n",
       "      <td>2.032180</td>\n",
       "      <td>22.119151</td>\n",
       "      <td>45.5417</td>\n",
       "      <td>9.833121</td>\n",
       "      <td>1</td>\n",
       "      <td>0</td>\n",
       "      <td>...</td>\n",
       "      <td>0</td>\n",
       "      <td>0</td>\n",
       "      <td>1</td>\n",
       "      <td>0</td>\n",
       "      <td>0</td>\n",
       "      <td>0</td>\n",
       "      <td>0</td>\n",
       "      <td>1</td>\n",
       "      <td>0</td>\n",
       "      <td>0</td>\n",
       "    </tr>\n",
       "    <tr>\n",
       "      <th>713156</th>\n",
       "      <td>9.0</td>\n",
       "      <td>0.348333</td>\n",
       "      <td>0.734583</td>\n",
       "      <td>0.092054</td>\n",
       "      <td>0.691932</td>\n",
       "      <td>8.371651</td>\n",
       "      <td>73.4583</td>\n",
       "      <td>6.167631</td>\n",
       "      <td>1</td>\n",
       "      <td>0</td>\n",
       "      <td>...</td>\n",
       "      <td>1</td>\n",
       "      <td>0</td>\n",
       "      <td>0</td>\n",
       "      <td>0</td>\n",
       "      <td>0</td>\n",
       "      <td>0</td>\n",
       "      <td>0</td>\n",
       "      <td>1</td>\n",
       "      <td>0</td>\n",
       "      <td>0</td>\n",
       "    </tr>\n",
       "    <tr>\n",
       "      <th>431432</th>\n",
       "      <td>4.0</td>\n",
       "      <td>0.665833</td>\n",
       "      <td>0.712083</td>\n",
       "      <td>0.208954</td>\n",
       "      <td>0.509754</td>\n",
       "      <td>23.294151</td>\n",
       "      <td>71.2083</td>\n",
       "      <td>13.999918</td>\n",
       "      <td>1</td>\n",
       "      <td>0</td>\n",
       "      <td>...</td>\n",
       "      <td>0</td>\n",
       "      <td>1</td>\n",
       "      <td>0</td>\n",
       "      <td>0</td>\n",
       "      <td>0</td>\n",
       "      <td>0</td>\n",
       "      <td>0</td>\n",
       "      <td>1</td>\n",
       "      <td>0</td>\n",
       "      <td>0</td>\n",
       "    </tr>\n",
       "    <tr>\n",
       "      <th>739781</th>\n",
       "      <td>14.0</td>\n",
       "      <td>0.470000</td>\n",
       "      <td>0.812917</td>\n",
       "      <td>0.197763</td>\n",
       "      <td>1.778493</td>\n",
       "      <td>14.090000</td>\n",
       "      <td>81.2917</td>\n",
       "      <td>13.250121</td>\n",
       "      <td>1</td>\n",
       "      <td>0</td>\n",
       "      <td>...</td>\n",
       "      <td>0</td>\n",
       "      <td>0</td>\n",
       "      <td>0</td>\n",
       "      <td>0</td>\n",
       "      <td>1</td>\n",
       "      <td>0</td>\n",
       "      <td>0</td>\n",
       "      <td>0</td>\n",
       "      <td>1</td>\n",
       "      <td>0</td>\n",
       "    </tr>\n",
       "    <tr>\n",
       "      <th>69785</th>\n",
       "      <td>11.0</td>\n",
       "      <td>0.725000</td>\n",
       "      <td>0.654583</td>\n",
       "      <td>0.154850</td>\n",
       "      <td>0.774344</td>\n",
       "      <td>26.075000</td>\n",
       "      <td>65.4583</td>\n",
       "      <td>10.374950</td>\n",
       "      <td>0</td>\n",
       "      <td>0</td>\n",
       "      <td>...</td>\n",
       "      <td>0</td>\n",
       "      <td>0</td>\n",
       "      <td>0</td>\n",
       "      <td>0</td>\n",
       "      <td>0</td>\n",
       "      <td>0</td>\n",
       "      <td>1</td>\n",
       "      <td>1</td>\n",
       "      <td>0</td>\n",
       "      <td>0</td>\n",
       "    </tr>\n",
       "  </tbody>\n",
       "</table>\n",
       "<p>5 rows × 37 columns</p>\n",
       "</div>"
      ],
      "text/plain": [
       "        time_diff  temperature  humidity  windspeed     miles       temp  \\\n",
       "403526       25.0     0.640833  0.455417   0.146763  2.032180  22.119151   \n",
       "713156        9.0     0.348333  0.734583   0.092054  0.691932   8.371651   \n",
       "431432        4.0     0.665833  0.712083   0.208954  0.509754  23.294151   \n",
       "739781       14.0     0.470000  0.812917   0.197763  1.778493  14.090000   \n",
       "69785        11.0     0.725000  0.654583   0.154850  0.774344  26.075000   \n",
       "\n",
       "            hum       wind  member_type_Registered  holiday_1      ...        \\\n",
       "403526  45.5417   9.833121                       1          0      ...         \n",
       "713156  73.4583   6.167631                       1          0      ...         \n",
       "431432  71.2083  13.999918                       1          0      ...         \n",
       "739781  81.2917  13.250121                       1          0      ...         \n",
       "69785   65.4583  10.374950                       0          0      ...         \n",
       "\n",
       "        weekday_0  weekday_1  weekday_2  weekday_3  weekday_4  weekday_5  \\\n",
       "403526          0          0          1          0          0          0   \n",
       "713156          1          0          0          0          0          0   \n",
       "431432          0          1          0          0          0          0   \n",
       "739781          0          0          0          0          1          0   \n",
       "69785           0          0          0          0          0          0   \n",
       "\n",
       "        weekday_6  weather_cat_1  weather_cat_2  weather_cat_3  \n",
       "403526          0              1              0              0  \n",
       "713156          0              1              0              0  \n",
       "431432          0              1              0              0  \n",
       "739781          0              0              1              0  \n",
       "69785           1              1              0              0  \n",
       "\n",
       "[5 rows x 37 columns]"
      ]
     },
     "execution_count": 5,
     "metadata": {},
     "output_type": "execute_result"
    }
   ],
   "source": [
    "bikeshare_machine.head()"
   ]
  },
  {
   "cell_type": "code",
   "execution_count": 6,
   "metadata": {
    "collapsed": true
   },
   "outputs": [],
   "source": [
    "class CustomScaler(TransformerMixin):\n",
    "    def __init__(self):\n",
    "        self.scaler = StandardScaler()\n",
    "    \n",
    "    def fit(self, X, y):\n",
    "        self.scaler.fit(X[:, 0:4], y)\n",
    "        return self\n",
    "    \n",
    "    def transform(self, X):\n",
    "        X_head = self.scaler.transform(X[:, 0:4])\n",
    "        return np.concatenate((X_head, X[:, 4:]), axis=1)"
   ]
  },
  {
   "cell_type": "markdown",
   "metadata": {},
   "source": [
    "### Model 1"
   ]
  },
  {
   "cell_type": "code",
   "execution_count": 7,
   "metadata": {
    "collapsed": true
   },
   "outputs": [],
   "source": [
    "# Leave workday, drop weekdays, leave season, drop month\n",
    "# Workday overlaps with workday/not workday and months overlap with seasons\n",
    "remove_cols = ['time_diff']\n",
    "X1 = np.matrix(bikeshare_machine.drop(remove_cols, 1))\n",
    "y1 = bikeshare_machine['time_diff']"
   ]
  },
  {
   "cell_type": "code",
   "execution_count": 8,
   "metadata": {},
   "outputs": [
    {
     "data": {
      "text/plain": [
       "((827346, 36), (275782, 36), (827346,), (275782,))"
      ]
     },
     "execution_count": 8,
     "metadata": {},
     "output_type": "execute_result"
    }
   ],
   "source": [
    "# Split the data into training and testing sets and check the shape\n",
    "X1_train, X1_test, y1_train, y1_test = train_test_split(X1, y1, test_size = 0.25, random_state=17)\n",
    "X1_train.shape, X1_test.shape, y1_train.shape, y1_test.shape"
   ]
  },
  {
   "cell_type": "code",
   "execution_count": 9,
   "metadata": {
    "collapsed": true
   },
   "outputs": [],
   "source": [
    "scale = CustomScaler()\n",
    "scale.fit(X1_train, y1_train)\n",
    "X1_train_scale = scale.transform(X1_train)\n",
    "X1_test_scale = scale.transform(X1_test)"
   ]
  },
  {
   "cell_type": "code",
   "execution_count": 10,
   "metadata": {},
   "outputs": [
    {
     "data": {
      "text/plain": [
       "LinearRegression(copy_X=True, fit_intercept=True, n_jobs=1, normalize=False)"
      ]
     },
     "execution_count": 10,
     "metadata": {},
     "output_type": "execute_result"
    }
   ],
   "source": [
    "model1 = LinearRegression()\n",
    "model1.fit(X1_train_scale, y1_train)"
   ]
  },
  {
   "cell_type": "code",
   "execution_count": 11,
   "metadata": {
    "collapsed": true
   },
   "outputs": [],
   "source": [
    "pred1 = model1.predict(X1_test_scale)\n",
    "model1_r = model1.score(X1_test_scale, y1_test)\n",
    "model1_mse = mean_squared_error(y1_test, pred1)\n",
    "model1_rmse = np.sqrt(model1_mse)\n",
    "adjustedr1 = 1 - (1-model1_r)*(len(y1_test)-1)/(len(y1_test)-X1_test_scale.shape[1]-1)"
   ]
  },
  {
   "cell_type": "code",
   "execution_count": 12,
   "metadata": {},
   "outputs": [
    {
     "data": {
      "text/plain": [
       "(0.37098178845335517,\n",
       " 0.37089966672634034,\n",
       " 86.346069726282195,\n",
       " 9.292258591229702)"
      ]
     },
     "execution_count": 12,
     "metadata": {},
     "output_type": "execute_result"
    }
   ],
   "source": [
    "model1_r, adjustedr1, model1_mse, model1_rmse"
   ]
  },
  {
   "cell_type": "code",
   "execution_count": null,
   "metadata": {
    "collapsed": true
   },
   "outputs": [],
   "source": []
  }
 ],
 "metadata": {
  "kernelspec": {
   "display_name": "Python 3",
   "language": "python",
   "name": "python3"
  },
  "language_info": {
   "codemirror_mode": {
    "name": "ipython",
    "version": 3
   },
   "file_extension": ".py",
   "mimetype": "text/x-python",
   "name": "python",
   "nbconvert_exporter": "python",
   "pygments_lexer": "ipython3",
   "version": "3.6.2"
  }
 },
 "nbformat": 4,
 "nbformat_minor": 2
}
