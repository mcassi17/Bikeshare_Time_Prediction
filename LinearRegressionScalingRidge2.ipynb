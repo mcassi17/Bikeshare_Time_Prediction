{
 "cells": [
  {
   "cell_type": "code",
   "execution_count": 1,
   "metadata": {
    "collapsed": true
   },
   "outputs": [],
   "source": [
    "import pandas as pd\n",
    "import numpy as np\n",
    "import matplotlib.pyplot as plt\n",
    "from datetime import datetime \n",
    "import seaborn as sns\n",
    "%matplotlib inline"
   ]
  },
  {
   "cell_type": "code",
   "execution_count": 2,
   "metadata": {
    "collapsed": true
   },
   "outputs": [],
   "source": [
    "from sklearn.model_selection import train_test_split\n",
    "from sklearn.metrics import mean_squared_error\n",
    "from sklearn.metrics import explained_variance_score\n",
    "from sklearn.metrics import r2_score\n",
    "from sklearn.model_selection import cross_val_score\n",
    "from sklearn.utils import shuffle\n",
    "from sklearn.preprocessing import StandardScaler\n",
    "from sklearn.linear_model import Ridge\n",
    "from sklearn.base import TransformerMixin\n",
    "from sklearn.model_selection import GridSearchCV"
   ]
  },
  {
   "cell_type": "code",
   "execution_count": 3,
   "metadata": {
    "collapsed": true
   },
   "outputs": [],
   "source": [
    "def set_data(file):\n",
    "    bikeshare_machine = pd.read_csv(file, \n",
    "                        parse_dates=['Start date', 'End date', 'start_date_short', 'end_date_short'])\n",
    "    bikeshare_machine.drop('Unnamed: 0', 1, inplace=True)\n",
    "    included_cols = ['start_station','end_station','Member Type','time_diff','season','mnth','holiday',\n",
    "                     'weekday','workingday','weathersit','temp','hum','windspeed','miles']\n",
    "    bikeshare_machine = bikeshare_machine[included_cols]\n",
    "    bikeshare_machine['season'] = bikeshare_machine['season'].astype('category')\n",
    "    bikeshare_machine['mnth'] = bikeshare_machine['mnth'].astype('category')\n",
    "    bikeshare_machine['holiday'] = bikeshare_machine['holiday'].astype('category')\n",
    "    bikeshare_machine['weekday'] = bikeshare_machine['weekday'].astype('category')\n",
    "    bikeshare_machine['workingday'] = bikeshare_machine['workingday'].astype('category')\n",
    "    bikeshare_machine['weathersit'] = bikeshare_machine['weathersit'].astype('category')\n",
    "    bikeshare_machine['Member Type'] = bikeshare_machine['Member Type'].astype('category')\n",
    "    bikeshare_machine['start_station'] = bikeshare_machine['start_station'].astype('category')\n",
    "    bikeshare_machine['end_station'] = bikeshare_machine['end_station'].astype('category')\n",
    "    col_names = ['start_station', 'end_station','member_type','time_diff','season','month','holiday',\n",
    "             'weekday','work_day','weather_cat','temperature','humidity','windspeed','miles']\n",
    "    bikeshare_machine.columns = col_names\n",
    "    tmin = -8\n",
    "    tmax = 39\n",
    "    hum_max = 100\n",
    "    wind_max = 67\n",
    "    bikeshare_machine['temp'] = bikeshare_machine['temperature'] * (tmax - tmin) + tmin\n",
    "    bikeshare_machine['hum'] = bikeshare_machine['humidity'] * 100\n",
    "    bikeshare_machine['wind'] = bikeshare_machine['windspeed'] * 67\n",
    "    bikeshare_machine.drop(['temperature', 'humidity', 'windspeed'], 1)\n",
    "    bikeshare_machine = pd.get_dummies(bikeshare_machine, \n",
    "                                 columns=['member_type','holiday','work_day'], drop_first=True)\n",
    "    bikeshare_machine = pd.get_dummies(bikeshare_machine, \n",
    "                                 columns=['start_station','end_station','season','month','weekday','weather_cat'])\n",
    "    bikeshare_machine = shuffle(bikeshare_machine)\n",
    "    return bikeshare_machine"
   ]
  },
  {
   "cell_type": "code",
   "execution_count": 4,
   "metadata": {
    "collapsed": true
   },
   "outputs": [],
   "source": [
    "file = 'less_bikeshare_lat_lon.csv'\n",
    "bikeshare_machine = set_data(file)"
   ]
  },
  {
   "cell_type": "code",
   "execution_count": 5,
   "metadata": {},
   "outputs": [
    {
     "data": {
      "text/html": [
       "<div>\n",
       "<style>\n",
       "    .dataframe thead tr:only-child th {\n",
       "        text-align: right;\n",
       "    }\n",
       "\n",
       "    .dataframe thead th {\n",
       "        text-align: left;\n",
       "    }\n",
       "\n",
       "    .dataframe tbody tr th {\n",
       "        vertical-align: top;\n",
       "    }\n",
       "</style>\n",
       "<table border=\"1\" class=\"dataframe\">\n",
       "  <thead>\n",
       "    <tr style=\"text-align: right;\">\n",
       "      <th></th>\n",
       "      <th>time_diff</th>\n",
       "      <th>temperature</th>\n",
       "      <th>humidity</th>\n",
       "      <th>windspeed</th>\n",
       "      <th>miles</th>\n",
       "      <th>temp</th>\n",
       "      <th>hum</th>\n",
       "      <th>wind</th>\n",
       "      <th>member_type_Registered</th>\n",
       "      <th>holiday_1</th>\n",
       "      <th>...</th>\n",
       "      <th>weekday_0</th>\n",
       "      <th>weekday_1</th>\n",
       "      <th>weekday_2</th>\n",
       "      <th>weekday_3</th>\n",
       "      <th>weekday_4</th>\n",
       "      <th>weekday_5</th>\n",
       "      <th>weekday_6</th>\n",
       "      <th>weather_cat_1</th>\n",
       "      <th>weather_cat_2</th>\n",
       "      <th>weather_cat_3</th>\n",
       "    </tr>\n",
       "  </thead>\n",
       "  <tbody>\n",
       "    <tr>\n",
       "      <th>419476</th>\n",
       "      <td>21.0</td>\n",
       "      <td>0.685000</td>\n",
       "      <td>0.722917</td>\n",
       "      <td>0.139308</td>\n",
       "      <td>2.240623</td>\n",
       "      <td>24.195000</td>\n",
       "      <td>72.2917</td>\n",
       "      <td>9.333636</td>\n",
       "      <td>1</td>\n",
       "      <td>0</td>\n",
       "      <td>...</td>\n",
       "      <td>0</td>\n",
       "      <td>0</td>\n",
       "      <td>0</td>\n",
       "      <td>0</td>\n",
       "      <td>0</td>\n",
       "      <td>1</td>\n",
       "      <td>0</td>\n",
       "      <td>0</td>\n",
       "      <td>1</td>\n",
       "      <td>0</td>\n",
       "    </tr>\n",
       "    <tr>\n",
       "      <th>571096</th>\n",
       "      <td>16.0</td>\n",
       "      <td>0.726667</td>\n",
       "      <td>0.637917</td>\n",
       "      <td>0.081479</td>\n",
       "      <td>0.837247</td>\n",
       "      <td>26.153349</td>\n",
       "      <td>63.7917</td>\n",
       "      <td>5.459106</td>\n",
       "      <td>0</td>\n",
       "      <td>1</td>\n",
       "      <td>...</td>\n",
       "      <td>0</td>\n",
       "      <td>1</td>\n",
       "      <td>0</td>\n",
       "      <td>0</td>\n",
       "      <td>0</td>\n",
       "      <td>0</td>\n",
       "      <td>0</td>\n",
       "      <td>0</td>\n",
       "      <td>1</td>\n",
       "      <td>0</td>\n",
       "    </tr>\n",
       "    <tr>\n",
       "      <th>314557</th>\n",
       "      <td>24.0</td>\n",
       "      <td>0.595000</td>\n",
       "      <td>0.900000</td>\n",
       "      <td>0.096404</td>\n",
       "      <td>3.201044</td>\n",
       "      <td>19.965000</td>\n",
       "      <td>90.0000</td>\n",
       "      <td>6.459081</td>\n",
       "      <td>1</td>\n",
       "      <td>0</td>\n",
       "      <td>...</td>\n",
       "      <td>0</td>\n",
       "      <td>0</td>\n",
       "      <td>0</td>\n",
       "      <td>1</td>\n",
       "      <td>0</td>\n",
       "      <td>0</td>\n",
       "      <td>0</td>\n",
       "      <td>0</td>\n",
       "      <td>1</td>\n",
       "      <td>0</td>\n",
       "    </tr>\n",
       "    <tr>\n",
       "      <th>305473</th>\n",
       "      <td>29.0</td>\n",
       "      <td>0.606667</td>\n",
       "      <td>0.862500</td>\n",
       "      <td>0.078383</td>\n",
       "      <td>0.000000</td>\n",
       "      <td>20.513349</td>\n",
       "      <td>86.2500</td>\n",
       "      <td>5.251681</td>\n",
       "      <td>1</td>\n",
       "      <td>0</td>\n",
       "      <td>...</td>\n",
       "      <td>0</td>\n",
       "      <td>0</td>\n",
       "      <td>0</td>\n",
       "      <td>0</td>\n",
       "      <td>0</td>\n",
       "      <td>0</td>\n",
       "      <td>1</td>\n",
       "      <td>0</td>\n",
       "      <td>1</td>\n",
       "      <td>0</td>\n",
       "    </tr>\n",
       "    <tr>\n",
       "      <th>351715</th>\n",
       "      <td>5.0</td>\n",
       "      <td>0.660000</td>\n",
       "      <td>0.753750</td>\n",
       "      <td>0.153608</td>\n",
       "      <td>0.620921</td>\n",
       "      <td>23.020000</td>\n",
       "      <td>75.3750</td>\n",
       "      <td>10.291736</td>\n",
       "      <td>1</td>\n",
       "      <td>0</td>\n",
       "      <td>...</td>\n",
       "      <td>0</td>\n",
       "      <td>0</td>\n",
       "      <td>0</td>\n",
       "      <td>0</td>\n",
       "      <td>0</td>\n",
       "      <td>0</td>\n",
       "      <td>1</td>\n",
       "      <td>1</td>\n",
       "      <td>0</td>\n",
       "      <td>0</td>\n",
       "    </tr>\n",
       "  </tbody>\n",
       "</table>\n",
       "<p>5 rows × 297 columns</p>\n",
       "</div>"
      ],
      "text/plain": [
       "        time_diff  temperature  humidity  windspeed     miles       temp  \\\n",
       "419476       21.0     0.685000  0.722917   0.139308  2.240623  24.195000   \n",
       "571096       16.0     0.726667  0.637917   0.081479  0.837247  26.153349   \n",
       "314557       24.0     0.595000  0.900000   0.096404  3.201044  19.965000   \n",
       "305473       29.0     0.606667  0.862500   0.078383  0.000000  20.513349   \n",
       "351715        5.0     0.660000  0.753750   0.153608  0.620921  23.020000   \n",
       "\n",
       "            hum       wind  member_type_Registered  holiday_1      ...        \\\n",
       "419476  72.2917   9.333636                       1          0      ...         \n",
       "571096  63.7917   5.459106                       0          1      ...         \n",
       "314557  90.0000   6.459081                       1          0      ...         \n",
       "305473  86.2500   5.251681                       1          0      ...         \n",
       "351715  75.3750  10.291736                       1          0      ...         \n",
       "\n",
       "        weekday_0  weekday_1  weekday_2  weekday_3  weekday_4  weekday_5  \\\n",
       "419476          0          0          0          0          0          1   \n",
       "571096          0          1          0          0          0          0   \n",
       "314557          0          0          0          1          0          0   \n",
       "305473          0          0          0          0          0          0   \n",
       "351715          0          0          0          0          0          0   \n",
       "\n",
       "        weekday_6  weather_cat_1  weather_cat_2  weather_cat_3  \n",
       "419476          0              0              1              0  \n",
       "571096          0              0              1              0  \n",
       "314557          0              0              1              0  \n",
       "305473          1              0              1              0  \n",
       "351715          1              1              0              0  \n",
       "\n",
       "[5 rows x 297 columns]"
      ]
     },
     "execution_count": 5,
     "metadata": {},
     "output_type": "execute_result"
    }
   ],
   "source": [
    "bikeshare_machine.head()"
   ]
  },
  {
   "cell_type": "code",
   "execution_count": 6,
   "metadata": {
    "collapsed": true
   },
   "outputs": [],
   "source": [
    "class CustomScaler(TransformerMixin):\n",
    "    def __init__(self):\n",
    "        self.scaler = StandardScaler()\n",
    "    \n",
    "    def fit(self, X, y):\n",
    "        self.scaler.fit(X[:, 0:4], y)\n",
    "        return self\n",
    "    \n",
    "    def transform(self, X):\n",
    "        X_head = self.scaler.transform(X[:, 0:4])\n",
    "        return np.concatenate((X_head, X[:, 4:]), axis=1)"
   ]
  },
  {
   "cell_type": "markdown",
   "metadata": {},
   "source": [
    "### Model 1"
   ]
  },
  {
   "cell_type": "code",
   "execution_count": 7,
   "metadata": {
    "collapsed": true
   },
   "outputs": [],
   "source": [
    "# Leave workday, drop weekdays, leave season, drop month\n",
    "# Workday overlaps with workday/not workday and months overlap with seasons\n",
    "remove_cols = ['work_day_1','season_1', 'season_2', 'season_3', 'season_4',\n",
    "               'temperature','humidity','windspeed', 'time_diff']\n",
    "X1 = np.matrix(bikeshare_machine.drop(remove_cols, 1))\n",
    "y1 = bikeshare_machine['time_diff']"
   ]
  },
  {
   "cell_type": "code",
   "execution_count": 8,
   "metadata": {},
   "outputs": [
    {
     "data": {
      "text/plain": [
       "((827346, 288), (275782, 288), (827346,), (275782,))"
      ]
     },
     "execution_count": 8,
     "metadata": {},
     "output_type": "execute_result"
    }
   ],
   "source": [
    "# Split the data into training and testing sets and check the shape\n",
    "X1_train, X1_test, y1_train, y1_test = train_test_split(X1, y1, test_size = 0.25, random_state=17)\n",
    "X1_train.shape, X1_test.shape, y1_train.shape, y1_test.shape"
   ]
  },
  {
   "cell_type": "code",
   "execution_count": 9,
   "metadata": {
    "collapsed": true
   },
   "outputs": [],
   "source": [
    "scale = CustomScaler()\n",
    "scale.fit(X1_train, y1_train)\n",
    "X1_train_scale = scale.transform(X1_train)\n",
    "X1_test_scale = scale.transform(X1_test)"
   ]
  },
  {
   "cell_type": "code",
   "execution_count": 10,
   "metadata": {},
   "outputs": [
    {
     "data": {
      "text/plain": [
       "GridSearchCV(cv=5, error_score='raise',\n",
       "       estimator=Ridge(alpha=1.0, copy_X=True, fit_intercept=True, max_iter=None,\n",
       "   normalize=False, random_state=None, solver='auto', tol=0.001),\n",
       "       fit_params=None, iid=True, n_jobs=1,\n",
       "       param_grid={'alpha': array([ 0.0001])}, pre_dispatch='2*n_jobs',\n",
       "       refit=True, return_train_score=True, scoring=None, verbose=0)"
      ]
     },
     "execution_count": 10,
     "metadata": {},
     "output_type": "execute_result"
    }
   ],
   "source": [
    "alpha = np.arange(0.0001, 20, 25)\n",
    "param_grid = {'alpha': alpha}\n",
    "ridge1 = Ridge(fit_intercept=True)\n",
    "ridge1_gs = GridSearchCV(ridge1, param_grid, cv=5)\n",
    "ridge1_gs.fit(X1_train_scale, y1_train)"
   ]
  },
  {
   "cell_type": "code",
   "execution_count": 11,
   "metadata": {
    "collapsed": true
   },
   "outputs": [],
   "source": [
    "pred4 = ridge1_gs.predict(X1_test_scale)\n",
    "ridge1_r = ridge1_gs.score(X1_test_scale, y1_test)\n",
    "ridge1_mse = mean_squared_error(y1_test, pred4)\n",
    "ridge1_rmse = np.sqrt(ridge1_mse)\n",
    "adjustedr4 = 1 - (1-ridge1_r)*(len(y1_test)-1)/(len(y1_test)-X1_test_scale.shape[1]-1)"
   ]
  },
  {
   "cell_type": "code",
   "execution_count": 12,
   "metadata": {},
   "outputs": [
    {
     "data": {
      "text/plain": [
       "(0.41229449297782217,\n",
       " 80.367186350943371,\n",
       " 8.9647747518241285,\n",
       " 0.4116801064561233)"
      ]
     },
     "execution_count": 12,
     "metadata": {},
     "output_type": "execute_result"
    }
   ],
   "source": [
    "ridge1_r, ridge1_mse, ridge1_rmse, adjustedr4"
   ]
  },
  {
   "cell_type": "code",
   "execution_count": null,
   "metadata": {
    "collapsed": true
   },
   "outputs": [],
   "source": []
  }
 ],
 "metadata": {
  "kernelspec": {
   "display_name": "Python 3",
   "language": "python",
   "name": "python3"
  },
  "language_info": {
   "codemirror_mode": {
    "name": "ipython",
    "version": 3
   },
   "file_extension": ".py",
   "mimetype": "text/x-python",
   "name": "python",
   "nbconvert_exporter": "python",
   "pygments_lexer": "ipython3",
   "version": "3.6.2"
  }
 },
 "nbformat": 4,
 "nbformat_minor": 2
}
